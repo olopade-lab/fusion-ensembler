{
 "cells": [
  {
   "cell_type": "code",
   "execution_count": 1,
   "metadata": {},
   "outputs": [],
   "source": [
    "%load_ext autoreload\n",
    "%autoreload 2"
   ]
  },
  {
   "cell_type": "code",
   "execution_count": 2,
   "metadata": {},
   "outputs": [],
   "source": [
    "import os\n",
    "import glob\n",
    "import re\n",
    "import itertools\n",
    "import time\n",
    "import joblib\n",
    "import random\n",
    "\n",
    "import pandas as pd\n",
    "pd.options.display.max_columns = None\n",
    "pd.options.display.max_rows = 15\n",
    "pd.options.display.max_colwidth = -1\n",
    "import numpy as np\n",
    "import seaborn as sns\n",
    "import matplotlib.pyplot as plt\n",
    "\n",
    "from sklearn import metrics\n",
    "from sklearn.metrics import auc, roc_curve, make_scorer\n",
    "from sklearn import svm, ensemble, datasets"
   ]
  },
  {
   "cell_type": "code",
   "execution_count": 3,
   "metadata": {},
   "outputs": [],
   "source": [
    "import parsl\n",
    "parsl.clear()\n",
    "\n",
    "from polyfuse.configs.local import config\n",
    "parsl.load(config)\n",
    "\n",
    "#parsl.load()\n",
    "\n",
    "from polyfuse import apps, transformations"
   ]
  },
  {
   "cell_type": "code",
   "execution_count": 4,
   "metadata": {},
   "outputs": [],
   "source": [
    "out_dir = '/cephfs/users/annawoodard/polyfuse/data/sim_50/processed'\n",
    "training_fraction = 0.85"
   ]
  },
  {
   "cell_type": "code",
   "execution_count": 5,
   "metadata": {},
   "outputs": [],
   "source": [
    "truth = apps.concatenate_true_fusions('/cephfs/users/annawoodard/fusion-simulation/data/processed/*', out_dir)"
   ]
  },
  {
   "cell_type": "code",
   "execution_count": 6,
   "metadata": {},
   "outputs": [],
   "source": [
    "truth = pd.read_hdf(truth.result(), 'data')"
   ]
  },
  {
   "cell_type": "code",
   "execution_count": 7,
   "metadata": {},
   "outputs": [],
   "source": [
    "callers = ['starseqr', 'starfusion', 'arriba', 'fusioncatcher', 'pizzly']"
   ]
  },
  {
   "cell_type": "code",
   "execution_count": 8,
   "metadata": {},
   "outputs": [],
   "source": [
    "parsed_caller_data = apps.parse_caller_data(out_dir, callers)"
   ]
  },
  {
   "cell_type": "code",
   "execution_count": 9,
   "metadata": {},
   "outputs": [],
   "source": [
    "caller_data_path = apps.concatenate_caller_data(out_dir, inputs=parsed_caller_data)\n",
    "caller_data = pd.read_hdf(caller_data_path.result(), 'data')"
   ]
  },
  {
   "cell_type": "code",
   "execution_count": 10,
   "metadata": {},
   "outputs": [],
   "source": [
    "samples = sorted(caller_data['sample'].unique())\n",
    "#random.shuffle(samples)\n",
    "training_samples = samples[:int(len(samples) * training_fraction)]\n",
    "testing_samples = samples[int(len(samples) * training_fraction):]"
   ]
  },
  {
   "cell_type": "code",
   "execution_count": 12,
   "metadata": {},
   "outputs": [
    {
     "name": "stdout",
     "output_type": "stream",
     "text": [
      "assembled data in 37.7s\n"
     ]
    }
   ],
   "source": [
    "start = time.time()\n",
    "x_train, y_train = apps.assemble_data(training_samples, callers, out_dir)\n",
    "print('assembled data in {:.1f}s'.format((time.time() - start)))"
   ]
  },
  {
   "cell_type": "code",
   "execution_count": 13,
   "metadata": {},
   "outputs": [
    {
     "name": "stdout",
     "output_type": "stream",
     "text": [
      "fit models in 99.4s\n"
     ]
    }
   ],
   "source": [
    "start = time.time()\n",
    "os.makedirs(os.path.join(out_dir, 'models'), exist_ok=True)\n",
    "\n",
    "classifiers = []\n",
    "for features in [\n",
    "            ['pizzly', 'starfusion', 'arriba', 'fusioncatcher'],\n",
    "            callers + ['arriba_confidence_high'],\n",
    "        ]:\n",
    "    #label = 'LSVC{}features'.format(len(features))\n",
    "    #trans = 'flatten'\n",
    "    #classifier = svm.LinearSVC(probability=True)\n",
    "    #print(label, classifier.get_params())\n",
    "    #classifier.fit(getattr(transformations, trans)(x_train[features]), y_train)\n",
    "    #joblib.dump(classifier, os.path.join(out_dir, 'models', label + '.joblib'))\n",
    "    #classifiers += [(features, label, trans)]\n",
    "\n",
    "\n",
    "    #label = 'DefaultSVC{}features'.format(len(features))\n",
    "    #trans = 'flatten'\n",
    "    #classifier = svm.SVC(probability=True)\n",
    "    #classifier.fit(getattr(transformations, trans)(x_train[features]), y_train)\n",
    "    #joblib.dump(classifier, os.path.join(out_dir, 'models', label + '.joblib'))\n",
    "    #classifiers += [(features, label, trans)]\n",
    "\n",
    "    #label = 'SVC{}Features'.format(len(features))\n",
    "    #trans = 'flatten'\n",
    "    #classifier = svm.SVC(C=10, gamma='auto', probability=True)\n",
    "    #print(label, classifier.get_params())\n",
    "    #classifier.fit(getattr(transformations, trans)(x_train[features]), y_train)\n",
    "    #joblib.dump(classifier, os.path.join(out_dir, 'models', label + '.joblib'))\n",
    "    #classifiers += [(features, label, trans)]\n",
    "    \n",
    "    label = 'RFC{}F'.format(len(features))\n",
    "    trans = 'noop'\n",
    "    classifier = ensemble.RandomForestClassifier()\n",
    "    classifier.fit(getattr(transformations, trans)(x_train[features]), y_train)\n",
    "    joblib.dump(classifier, os.path.join(out_dir, 'models', label + '.joblib'))\n",
    "    classifiers += [(features, label, trans)]\n",
    "\n",
    "    \n",
    "    label = 'GBC{}F'.format(len(features))\n",
    "    trans = 'noop'\n",
    "    classifier = ensemble.GradientBoostingClassifier(learning_rate=0.05, n_estimators=750, subsample=0.9)\n",
    "    classifier.fit(getattr(transformations, trans)(x_train[features]), y_train)\n",
    "    joblib.dump(classifier, os.path.join(out_dir, 'models', label + '.joblib'))\n",
    "    classifiers += [(features, label, trans)]\n",
    "\n",
    "    label = 'DefaultGBC{}F'.format(len(features))\n",
    "    trans = 'noop'\n",
    "    classifier = ensemble.GradientBoostingClassifier()\n",
    "    classifier.fit(getattr(transformations, trans)(x_train[features]), y_train)\n",
    "    joblib.dump(classifier, os.path.join(out_dir, 'models', label + '.joblib'))\n",
    "    classifiers += [(features, label, trans)]\n",
    "\n",
    "print('fit models in {:.1f}s'.format((time.time() - start)))\n"
   ]
  },
  {
   "cell_type": "code",
   "execution_count": 14,
   "metadata": {},
   "outputs": [
    {
     "data": {
      "text/plain": [
       "((63025, 9), 34000)"
      ]
     },
     "execution_count": 14,
     "metadata": {},
     "output_type": "execute_result"
    }
   ],
   "source": [
    "x_train.shape, sum(y_train)"
   ]
  },
  {
   "cell_type": "code",
   "execution_count": 15,
   "metadata": {},
   "outputs": [
    {
     "name": "stdout",
     "output_type": "stream",
     "text": [
      "assembled predictions in 32.4s\n"
     ]
    }
   ],
   "source": [
    "start = time.time()\n",
    "model_data = pd.read_hdf(\n",
    "    apps.predict(testing_samples, out_dir, classifiers, callers), 'data'\n",
    ")\n",
    "print('assembled predictions in {:.1f}s'.format((time.time() - start)))"
   ]
  },
  {
   "cell_type": "code",
   "execution_count": 16,
   "metadata": {},
   "outputs": [],
   "source": [
    "summary = apps.make_summary(out_dir, testing_samples)"
   ]
  },
  {
   "cell_type": "code",
   "execution_count": 17,
   "metadata": {},
   "outputs": [
    {
     "data": {
      "image/png": "[encoded data removed]",
      "text/plain": [
       "<Figure size 432x288 with 1 Axes>"
      ]
     },
     "metadata": {
      "needs_background": "light"
     },
     "output_type": "display_data"
    },
    {
     "data": {
      "image/png": "[encoded data removed]",
      "text/plain": [
       "<Figure size 432x288 with 1 Axes>"
      ]
     },
     "metadata": {
      "needs_background": "light"
     },
     "output_type": "display_data"
    },
    {
     "data": {
      "image/png": "[encoded data removed]",
      "text/plain": [
       "<Figure size 432x288 with 1 Axes>"
      ]
     },
     "metadata": {
      "needs_background": "light"
     },
     "output_type": "display_data"
    },
    {
     "data": {
      "image/png": "[encoded data removed]",
      "text/plain": [
       "<Figure size 432x288 with 1 Axes>"
      ]
     },
     "metadata": {
      "needs_background": "light"
     },
     "output_type": "display_data"
    }
   ],
   "source": [
    "os.makedirs('plots', exist_ok=True)\n",
    "for metric in ['accuracy', 'precision', 'recall', 'f1']:\n",
    "    plt.figure()\n",
    "    ax = sns.boxplot(x=\"caller\", y=metric, data=summary.sort_values(by=metric, ascending=False))\n",
    "    labels = ax.set_xticklabels(ax.get_xticklabels(), rotation=90)\n",
    "    _ = plt.setp(ax.artists, edgecolor = 'k', facecolor='w')\n",
    "    _ = plt.setp(ax.lines, color='k')\n",
    "    plt.savefig('plots/{}.pdf'.format(metric))"
   ]
  },
  {
   "cell_type": "code",
   "execution_count": 18,
   "metadata": {},
   "outputs": [
    {
     "data": {
      "text/html": [
       "<div>\n",
       "<style scoped>\n",
       "    .dataframe tbody tr th:only-of-type {\n",
       "        vertical-align: middle;\n",
       "    }\n",
       "\n",
       "    .dataframe tbody tr th {\n",
       "        vertical-align: top;\n",
       "    }\n",
       "\n",
       "    .dataframe thead th {\n",
       "        text-align: right;\n",
       "    }\n",
       "</style>\n",
       "<table border=\"1\" class=\"dataframe\">\n",
       "  <thead>\n",
       "    <tr style=\"text-align: right;\">\n",
       "      <th></th>\n",
       "      <th>tp</th>\n",
       "      <th>fp</th>\n",
       "      <th>fn</th>\n",
       "      <th>tn</th>\n",
       "      <th>recall</th>\n",
       "      <th>precision</th>\n",
       "      <th>accuracy</th>\n",
       "      <th>f1</th>\n",
       "      <th>mcc</th>\n",
       "    </tr>\n",
       "    <tr>\n",
       "      <th>caller</th>\n",
       "      <th></th>\n",
       "      <th></th>\n",
       "      <th></th>\n",
       "      <th></th>\n",
       "      <th></th>\n",
       "      <th></th>\n",
       "      <th></th>\n",
       "      <th></th>\n",
       "      <th></th>\n",
       "    </tr>\n",
       "  </thead>\n",
       "  <tbody>\n",
       "    <tr>\n",
       "      <th>PolyfuseGBC6F</th>\n",
       "      <td>438.833333</td>\n",
       "      <td>45.250000</td>\n",
       "      <td>61.166667</td>\n",
       "      <td>407.833333</td>\n",
       "      <td>0.877667</td>\n",
       "      <td>0.906656</td>\n",
       "      <td>0.888449</td>\n",
       "      <td>0.891865</td>\n",
       "      <td>0.776668</td>\n",
       "    </tr>\n",
       "    <tr>\n",
       "      <th>PolyfuseDefaultGBC6F</th>\n",
       "      <td>432.750000</td>\n",
       "      <td>42.416667</td>\n",
       "      <td>67.250000</td>\n",
       "      <td>410.666667</td>\n",
       "      <td>0.865500</td>\n",
       "      <td>0.910892</td>\n",
       "      <td>0.884949</td>\n",
       "      <td>0.887549</td>\n",
       "      <td>0.770475</td>\n",
       "    </tr>\n",
       "    <tr>\n",
       "      <th>PolyfuseRFC6F</th>\n",
       "      <td>440.416667</td>\n",
       "      <td>60.666667</td>\n",
       "      <td>59.583333</td>\n",
       "      <td>392.416667</td>\n",
       "      <td>0.880833</td>\n",
       "      <td>0.879391</td>\n",
       "      <td>0.873968</td>\n",
       "      <td>0.879937</td>\n",
       "      <td>0.746865</td>\n",
       "    </tr>\n",
       "    <tr>\n",
       "      <th>PolyfuseGBC4F</th>\n",
       "      <td>413.916667</td>\n",
       "      <td>44.583333</td>\n",
       "      <td>86.083333</td>\n",
       "      <td>408.500000</td>\n",
       "      <td>0.827833</td>\n",
       "      <td>0.902880</td>\n",
       "      <td>0.862845</td>\n",
       "      <td>0.863667</td>\n",
       "      <td>0.728422</td>\n",
       "    </tr>\n",
       "    <tr>\n",
       "      <th>PolyfuseDefaultGBC4F</th>\n",
       "      <td>414.500000</td>\n",
       "      <td>46.166667</td>\n",
       "      <td>85.500000</td>\n",
       "      <td>406.916667</td>\n",
       "      <td>0.829000</td>\n",
       "      <td>0.899915</td>\n",
       "      <td>0.861791</td>\n",
       "      <td>0.862933</td>\n",
       "      <td>0.726001</td>\n",
       "    </tr>\n",
       "    <tr>\n",
       "      <th>PolyfuseRFC4F</th>\n",
       "      <td>416.000000</td>\n",
       "      <td>58.583333</td>\n",
       "      <td>84.000000</td>\n",
       "      <td>394.500000</td>\n",
       "      <td>0.832000</td>\n",
       "      <td>0.876790</td>\n",
       "      <td>0.850329</td>\n",
       "      <td>0.853652</td>\n",
       "      <td>0.701053</td>\n",
       "    </tr>\n",
       "    <tr>\n",
       "      <th>starfusion</th>\n",
       "      <td>403.083333</td>\n",
       "      <td>53.166667</td>\n",
       "      <td>96.916667</td>\n",
       "      <td>399.916667</td>\n",
       "      <td>0.806167</td>\n",
       "      <td>0.883525</td>\n",
       "      <td>0.842497</td>\n",
       "      <td>0.843047</td>\n",
       "      <td>0.687987</td>\n",
       "    </tr>\n",
       "    <tr>\n",
       "      <th>fusioncatcher</th>\n",
       "      <td>371.500000</td>\n",
       "      <td>71.750000</td>\n",
       "      <td>128.500000</td>\n",
       "      <td>381.333333</td>\n",
       "      <td>0.743000</td>\n",
       "      <td>0.838430</td>\n",
       "      <td>0.789370</td>\n",
       "      <td>0.787688</td>\n",
       "      <td>0.583872</td>\n",
       "    </tr>\n",
       "    <tr>\n",
       "      <th>arriba</th>\n",
       "      <td>417.500000</td>\n",
       "      <td>141.500000</td>\n",
       "      <td>82.500000</td>\n",
       "      <td>311.583333</td>\n",
       "      <td>0.835000</td>\n",
       "      <td>0.747741</td>\n",
       "      <td>0.764998</td>\n",
       "      <td>0.788789</td>\n",
       "      <td>0.528833</td>\n",
       "    </tr>\n",
       "    <tr>\n",
       "      <th>starseqr</th>\n",
       "      <td>401.583333</td>\n",
       "      <td>129.416667</td>\n",
       "      <td>98.416667</td>\n",
       "      <td>323.666667</td>\n",
       "      <td>0.803167</td>\n",
       "      <td>0.756801</td>\n",
       "      <td>0.760814</td>\n",
       "      <td>0.779152</td>\n",
       "      <td>0.518757</td>\n",
       "    </tr>\n",
       "    <tr>\n",
       "      <th>pizzly</th>\n",
       "      <td>444.833333</td>\n",
       "      <td>304.000000</td>\n",
       "      <td>55.166667</td>\n",
       "      <td>149.083333</td>\n",
       "      <td>0.889667</td>\n",
       "      <td>0.596208</td>\n",
       "      <td>0.624639</td>\n",
       "      <td>0.713384</td>\n",
       "      <td>0.268197</td>\n",
       "    </tr>\n",
       "  </tbody>\n",
       "</table>\n",
       "</div>"
      ],
      "text/plain": [
       "                              tp          fp          fn          tn  \\\n",
       "caller                                                                 \n",
       "PolyfuseGBC6F         438.833333  45.250000   61.166667   407.833333   \n",
       "PolyfuseDefaultGBC6F  432.750000  42.416667   67.250000   410.666667   \n",
       "PolyfuseRFC6F         440.416667  60.666667   59.583333   392.416667   \n",
       "PolyfuseGBC4F         413.916667  44.583333   86.083333   408.500000   \n",
       "PolyfuseDefaultGBC4F  414.500000  46.166667   85.500000   406.916667   \n",
       "PolyfuseRFC4F         416.000000  58.583333   84.000000   394.500000   \n",
       "starfusion            403.083333  53.166667   96.916667   399.916667   \n",
       "fusioncatcher         371.500000  71.750000   128.500000  381.333333   \n",
       "arriba                417.500000  141.500000  82.500000   311.583333   \n",
       "starseqr              401.583333  129.416667  98.416667   323.666667   \n",
       "pizzly                444.833333  304.000000  55.166667   149.083333   \n",
       "\n",
       "                        recall  precision  accuracy        f1       mcc  \n",
       "caller                                                                   \n",
       "PolyfuseGBC6F         0.877667  0.906656   0.888449  0.891865  0.776668  \n",
       "PolyfuseDefaultGBC6F  0.865500  0.910892   0.884949  0.887549  0.770475  \n",
       "PolyfuseRFC6F         0.880833  0.879391   0.873968  0.879937  0.746865  \n",
       "PolyfuseGBC4F         0.827833  0.902880   0.862845  0.863667  0.728422  \n",
       "PolyfuseDefaultGBC4F  0.829000  0.899915   0.861791  0.862933  0.726001  \n",
       "PolyfuseRFC4F         0.832000  0.876790   0.850329  0.853652  0.701053  \n",
       "starfusion            0.806167  0.883525   0.842497  0.843047  0.687987  \n",
       "fusioncatcher         0.743000  0.838430   0.789370  0.787688  0.583872  \n",
       "arriba                0.835000  0.747741   0.764998  0.788789  0.528833  \n",
       "starseqr              0.803167  0.756801   0.760814  0.779152  0.518757  \n",
       "pizzly                0.889667  0.596208   0.624639  0.713384  0.268197  "
      ]
     },
     "execution_count": 18,
     "metadata": {},
     "output_type": "execute_result"
    }
   ],
   "source": [
    "summary.groupby('caller').mean().sort_values(by='accuracy', ascending=False)"
   ]
  },
  {
   "cell_type": "code",
   "execution_count": null,
   "metadata": {},
   "outputs": [],
   "source": [
    "sample = model_data['sample'].unique()[0]\n",
    "plt.figure()\n",
    "for caller in model_data.caller.unique():\n",
    "    print(caller)\n",
    "    try:\n",
    "        y_true, y_pred, y_prob = apps.score_model(out_dir, sample, caller).result()\n",
    "    except:\n",
    "        continue\n",
    "\n",
    "    auroc = metrics.roc_auc_score(y_true, y_pred)\n",
    "    fpr, tpr, thresholds = metrics.roc_curve(y_true, y_prob)\n",
    "    plt.plot(fpr, tpr, label='{} (AUROC = {:0.2f})'.format(caller, auroc))\n",
    "\n",
    "plt.xlabel('false positive rate')\n",
    "plt.ylabel('true positive rate')\n",
    "plt.legend(frameon=False)"
   ]
  },
  {
   "cell_type": "code",
   "execution_count": 83,
   "metadata": {},
   "outputs": [
    {
     "name": "stdout",
     "output_type": "stream",
     "text": [
      "polyfuseRFC4features\n"
     ]
    },
    {
     "ename": "NameError",
     "evalue": "name 'recall' is not defined",
     "output_type": "error",
     "traceback": [
      "\u001b[0;31m---------------------------------------------------------------------------\u001b[0m",
      "\u001b[0;31mNameError\u001b[0m                                 Traceback (most recent call last)",
      "\u001b[0;32m<ipython-input-83-65f8841748f4>\u001b[0m in \u001b[0;36m<module>\u001b[0;34m\u001b[0m\n\u001b[1;32m      8\u001b[0m         \u001b[0;32mcontinue\u001b[0m\u001b[0;34m\u001b[0m\u001b[0m\n\u001b[1;32m      9\u001b[0m \u001b[0;34m\u001b[0m\u001b[0m\n\u001b[0;32m---> 10\u001b[0;31m     \u001b[0mauprc\u001b[0m \u001b[0;34m=\u001b[0m \u001b[0mauc\u001b[0m\u001b[0;34m(\u001b[0m\u001b[0mrecall\u001b[0m\u001b[0;34m,\u001b[0m \u001b[0mprecision\u001b[0m\u001b[0;34m)\u001b[0m\u001b[0;34m\u001b[0m\u001b[0m\n\u001b[0m\u001b[1;32m     11\u001b[0m     \u001b[0mprecision\u001b[0m\u001b[0;34m,\u001b[0m \u001b[0mrecall\u001b[0m\u001b[0;34m,\u001b[0m \u001b[0mthresholds\u001b[0m \u001b[0;34m=\u001b[0m \u001b[0mprecision_recall_curve\u001b[0m\u001b[0;34m(\u001b[0m\u001b[0my_true\u001b[0m\u001b[0;34m,\u001b[0m \u001b[0my_prob\u001b[0m\u001b[0;34m)\u001b[0m\u001b[0;34m\u001b[0m\u001b[0m\n\u001b[1;32m     12\u001b[0m     \u001b[0mplt\u001b[0m\u001b[0;34m.\u001b[0m\u001b[0mplot\u001b[0m\u001b[0;34m(\u001b[0m\u001b[0mprecision\u001b[0m\u001b[0;34m,\u001b[0m \u001b[0mrecall\u001b[0m\u001b[0;34m,\u001b[0m \u001b[0mlabel\u001b[0m\u001b[0;34m=\u001b[0m\u001b[0;34m'{} (AUPRC = {:0.2f})'\u001b[0m\u001b[0;34m.\u001b[0m\u001b[0mformat\u001b[0m\u001b[0;34m(\u001b[0m\u001b[0mcaller\u001b[0m\u001b[0;34m,\u001b[0m \u001b[0mauroc\u001b[0m\u001b[0;34m)\u001b[0m\u001b[0;34m)\u001b[0m\u001b[0;34m\u001b[0m\u001b[0m\n",
      "\u001b[0;31mNameError\u001b[0m: name 'recall' is not defined"
     ]
    },
    {
     "data": {
      "text/plain": [
       "<Figure size 432x288 with 0 Axes>"
      ]
     },
     "metadata": {},
     "output_type": "display_data"
    }
   ],
   "source": [
    "sample = model_data['sample'].unique()[0]\n",
    "plt.figure()\n",
    "for caller in model_data.caller.unique():\n",
    "    print(caller)\n",
    "    try:\n",
    "        y_true, y_pred, y_prob = apps.score_model(out_dir, sample, caller).result()\n",
    "    except:\n",
    "        continue\n",
    "\n",
    "    precision, recall, thresholds = precision_recall_curve(y_true, y_prob)\n",
    "    auprc = auc(recall, precision)\n",
    "    plt.plot(precision, recall, label='{} (AUPRC = {:0.2f})'.format(caller, auroc))\n",
    "\n",
    "plt.xlabel('precision')\n",
    "plt.ylabel('recall')\n",
    "plt.legend(frameon=False)\n",
    "# looks funky, but see: https://stats.stackexchange.com/questions/183504/are-precision-and-recall-supposed-to-be-monotonic-to-classification-threshold"
   ]
  }
 ],
 "metadata": {
  "kernelspec": {
   "display_name": "Python 3",
   "language": "python",
   "name": "python3"
  },
  "language_info": {
   "codemirror_mode": {
    "name": "ipython",
    "version": 3
   },
   "file_extension": ".py",
   "mimetype": "text/x-python",
   "name": "python",
   "nbconvert_exporter": "python",
   "pygments_lexer": "ipython3",
   "version": "3.7.0"
  }
 },
 "nbformat": 4,
 "nbformat_minor": 2
}
