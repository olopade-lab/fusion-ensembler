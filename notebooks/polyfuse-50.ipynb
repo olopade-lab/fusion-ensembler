{
 "cells": [
  {
   "cell_type": "code",
   "execution_count": 1,
   "metadata": {},
   "outputs": [],
   "source": [
    "%load_ext autoreload\n",
    "%autoreload 2"
   ]
  },
  {
   "cell_type": "code",
   "execution_count": 2,
   "metadata": {},
   "outputs": [],
   "source": [
    "import os\n",
    "import glob\n",
    "import re\n",
    "import itertools\n",
    "import time\n",
    "import joblib\n",
    "import random\n",
    "\n",
    "import pandas as pd\n",
    "pd.options.display.max_columns = None\n",
    "pd.options.display.max_rows = 15\n",
    "pd.options.display.max_colwidth = -1\n",
    "import numpy as np\n",
    "import seaborn as sns\n",
    "import matplotlib.pyplot as plt\n",
    "\n",
    "from sklearn import metrics\n",
    "from sklearn.metrics import auc, roc_curve, make_scorer\n",
    "from sklearn import svm, ensemble, datasets"
   ]
  },
  {
   "cell_type": "code",
   "execution_count": 3,
   "metadata": {},
   "outputs": [],
   "source": [
    "import parsl\n",
    "parsl.clear()\n",
    "\n",
    "from polyfuse.configs.local import config\n",
    "parsl.load(config)\n",
    "\n",
    "#parsl.load()\n",
    "\n",
    "from polyfuse import apps, transformations"
   ]
  },
  {
   "cell_type": "code",
   "execution_count": 47,
   "metadata": {},
   "outputs": [],
   "source": [
    "out_dir = '/cephfs/users/annawoodard/polyfuse/data/sim_50/processed'\n",
    "training_fraction = 0.85"
   ]
  },
  {
   "cell_type": "code",
   "execution_count": 48,
   "metadata": {},
   "outputs": [],
   "source": [
    "truth = apps.concatenate_true_fusions('/cephfs/users/annawoodard/fusion-simulation/data/processed/*', out_dir)"
   ]
  },
  {
   "cell_type": "code",
   "execution_count": 49,
   "metadata": {},
   "outputs": [],
   "source": [
    "truth = pd.read_hdf(truth.result(), 'data')"
   ]
  },
  {
   "cell_type": "code",
   "execution_count": 62,
   "metadata": {},
   "outputs": [],
   "source": [
    "callers = ['starseqr', 'starfusion', 'arriba', 'fusioncatcher', 'pizzly']\n",
    "features = callers + ['confidence'] # FIXME prepend caller to feature names\n",
    "indices = dict((c, i) for i, c in enumerate(features))"
   ]
  },
  {
   "cell_type": "code",
   "execution_count": 70,
   "metadata": {},
   "outputs": [],
   "source": [
    "parsed_caller_data = apps.parse_caller_data(out_dir, callers)"
   ]
  },
  {
   "cell_type": "code",
   "execution_count": 71,
   "metadata": {},
   "outputs": [],
   "source": [
    "caller_data_path = apps.concatenate_caller_data(out_dir, inputs=parsed_caller_data)\n",
    "caller_data = pd.read_hdf(caller_data_path.result(), 'data')"
   ]
  },
  {
   "cell_type": "code",
   "execution_count": 72,
   "metadata": {},
   "outputs": [
    {
     "data": {
      "text/plain": [
       "array([0., 3., 2., 1.])"
      ]
     },
     "execution_count": 72,
     "metadata": {},
     "output_type": "execute_result"
    }
   ],
   "source": [
    "caller_data.confidence.unique()"
   ]
  },
  {
   "cell_type": "code",
   "execution_count": 73,
   "metadata": {},
   "outputs": [],
   "source": [
    "samples = sorted(caller_data['sample'].unique())\n",
    "#random.shuffle(samples)\n",
    "training_samples = samples[:int(len(samples) * training_fraction)]\n",
    "testing_samples = samples[int(len(samples) * training_fraction):]"
   ]
  },
  {
   "cell_type": "code",
   "execution_count": 74,
   "metadata": {},
   "outputs": [
    {
     "name": "stdout",
     "output_type": "stream",
     "text": [
      "assembled data in 34.7s\n"
     ]
    }
   ],
   "source": [
    "training_data = [apps.assemble_data(sample, callers, out_dir) for sample in training_samples]\n",
    "\n",
    "start = time.time()\n",
    "x_train = np.array(sum([data.result()[0] for data in training_data], []))\n",
    "y_train = np.array(sum([data.result()[1] for data in training_data], []))\n",
    "\n",
    "print('assembled data in {:.1f}s'.format((time.time() - start)))"
   ]
  },
  {
   "cell_type": "code",
   "execution_count": 75,
   "metadata": {},
   "outputs": [
    {
     "name": "stdout",
     "output_type": "stream",
     "text": [
      "fit models in 109.9s\n"
     ]
    }
   ],
   "source": [
    "start = time.time()\n",
    "os.makedirs(os.path.join(out_dir, 'models'), exist_ok=True)\n",
    "classifiers = []\n",
    "for features in [\n",
    "            #['pizzly', 'starseqr', 'fusioncatcher'],\n",
    "            ['pizzly', 'starfusion', 'arriba', 'fusioncatcher'],\n",
    "            callers + ['confidence'],\n",
    "            #['arriba']\n",
    "            #['STARSEQR', 'PIZZLY', 'PRADA', 'FUSIONCATCHER_v1.10_June192019', 'ChimeraScan', 'ARRIBA', 'MapSplice'],\n",
    "            #['STARSEQR', 'PIZZLY', 'PRADA', 'FUSIONCATCHER_v1.10_June192019', 'ChimeraScan', 'ARRIBA', 'MapSplice', 'STAR_FUSION_v1.5'],\n",
    "            #['STARSEQR', 'ARRIBA', 'STAR_FUSION_v1.5']\n",
    "        ]:\n",
    "    \n",
    "    pruned_indices = [indices[f] for f in features]\n",
    "    \n",
    "    #label = 'LSVC{}features'.format(len(features))\n",
    "    #trans = 'flatten'\n",
    "    #classifier = svm.LinearSVC(probability=True)\n",
    "    #print(label, classifier.get_params())\n",
    "    #classifier.fit(getattr(transformations, trans)(x_train[:, pruned_indices]), y_train)\n",
    "    #joblib.dump(classifier, os.path.join(out_dir, 'models', label + '.joblib'))\n",
    "    #classifiers += [(label, pruned_indices, trans)]\n",
    "\n",
    "    #label = 'DefaultSVC{}features'.format(len(features))\n",
    "    #trans = 'flatten'\n",
    "    #classifier = svm.SVC(probability=True)\n",
    "    #classifier.fit(getattr(transformations, trans)(x_train[:, pruned_indices]), y_train)\n",
    "    #joblib.dump(classifier, os.path.join(out_dir, 'models', label + '.joblib'))\n",
    "    #classifiers += [(label, pruned_indices, trans)]\n",
    "\n",
    "    #label = 'SVC{}Features'.format(len(features))\n",
    "    #trans = 'flatten'\n",
    "    #classifier = svm.SVC(C=10, gamma='auto', probability=True)\n",
    "    #print(label, classifier.get_params())\n",
    "    #classifier.fit(getattr(transformations, trans)(x_train[:, pruned_indices]), y_train)\n",
    "    #joblib.dump(classifier, os.path.join(out_dir, 'models', label + '.joblib'))\n",
    "    #classifiers += [(label, pruned_indices, trans)]\n",
    "    \n",
    "    label = 'RFC{}features'.format(len(features))\n",
    "    trans = 'noop'\n",
    "    classifier = ensemble.RandomForestClassifier()\n",
    "    classifier.fit(getattr(transformations, trans)(x_train[:, pruned_indices]), y_train)\n",
    "    joblib.dump(classifier, os.path.join(out_dir, 'models', label + '.joblib'))\n",
    "    classifiers += [(label, pruned_indices, trans)]\n",
    "    \n",
    "    label = 'GBC{}features'.format(len(features))\n",
    "    trans = 'noop'\n",
    "    classifier = ensemble.GradientBoostingClassifier(learning_rate=0.05, n_estimators=750, subsample=0.9)\n",
    "    classifier.fit(getattr(transformations, trans)(x_train[:, pruned_indices]), y_train)\n",
    "    joblib.dump(classifier, os.path.join(out_dir, 'models', label + '.joblib'))\n",
    "    classifiers += [(label, pruned_indices, trans)]\n",
    "\n",
    "    label = 'defaultGBC{}features'.format(len(features))\n",
    "    trans = 'noop'\n",
    "    classifier = ensemble.GradientBoostingClassifier()\n",
    "    classifier.fit(getattr(transformations, trans)(x_train[:, pruned_indices]), y_train)\n",
    "    joblib.dump(classifier, os.path.join(out_dir, 'models', label + '.joblib'))\n",
    "    classifiers += [(label, pruned_indices, trans)]\n",
    "\n",
    "print('fit models in {:.1f}s'.format((time.time() - start)))"
   ]
  },
  {
   "cell_type": "code",
   "execution_count": 76,
   "metadata": {},
   "outputs": [
    {
     "data": {
      "text/plain": [
       "((63025, 6), 34000)"
      ]
     },
     "execution_count": 76,
     "metadata": {},
     "output_type": "execute_result"
    }
   ],
   "source": [
    "x_train.shape, sum(y_train)"
   ]
  },
  {
   "cell_type": "code",
   "execution_count": 77,
   "metadata": {},
   "outputs": [
    {
     "name": "stdout",
     "output_type": "stream",
     "text": [
      "assembled predictions in 35.1s\n"
     ]
    }
   ],
   "source": [
    "# TODO make helper function to ensure this file exists\n",
    "start = time.time()\n",
    "futures = []\n",
    "for sample in testing_samples:\n",
    "    for label, feature_indices, transformation in classifiers:\n",
    "        futures += [apps.predict(sample, out_dir, label, feature_indices, transformation, callers)]\n",
    "model_data = pd.concat([f.result() for f in futures])\n",
    "print('assembled predictions in {:.1f}s'.format((time.time() - start)))"
   ]
  },
  {
   "cell_type": "code",
   "execution_count": 78,
   "metadata": {},
   "outputs": [],
   "source": [
    "model_data.to_hdf(os.path.join(out_dir, 'model_data.hdf'), 'data', mode='w')"
   ]
  },
  {
   "cell_type": "code",
   "execution_count": 79,
   "metadata": {},
   "outputs": [],
   "source": [
    "summary = apps.make_summary(out_dir, testing_samples)"
   ]
  },
  {
   "cell_type": "code",
   "execution_count": 80,
   "metadata": {},
   "outputs": [
    {
     "data": {
      "image/png": "[encoded data removed]",
      "text/plain": [
       "<Figure size 432x288 with 1 Axes>"
      ]
     },
     "metadata": {
      "needs_background": "light"
     },
     "output_type": "display_data"
    },
    {
     "data": {
      "image/png": "[encoded data removed]",
      "text/plain": [
       "<Figure size 432x288 with 1 Axes>"
      ]
     },
     "metadata": {
      "needs_background": "light"
     },
     "output_type": "display_data"
    },
    {
     "data": {
      "image/png": "[encoded data removed]",
      "text/plain": [
       "<Figure size 432x288 with 1 Axes>"
      ]
     },
     "metadata": {
      "needs_background": "light"
     },
     "output_type": "display_data"
    },
    {
     "data": {
      "image/png": "[encoded data removed]",
      "text/plain": [
       "<Figure size 432x288 with 1 Axes>"
      ]
     },
     "metadata": {
      "needs_background": "light"
     },
     "output_type": "display_data"
    }
   ],
   "source": [
    "os.makedirs('plots', exist_ok=True)\n",
    "for metric in ['accuracy', 'precision', 'recall', 'f1']:\n",
    "    plt.figure()\n",
    "    ax = sns.boxplot(x=\"caller\", y=metric, data=summary.sort_values(by=metric, ascending=False))\n",
    "    labels = ax.set_xticklabels(ax.get_xticklabels(), rotation=90)\n",
    "    _ = plt.setp(ax.artists, edgecolor = 'k', facecolor='w')\n",
    "    _ = plt.setp(ax.lines, color='k')\n",
    "    plt.savefig('plots/{}.pdf'.format(metric))"
   ]
  },
  {
   "cell_type": "code",
   "execution_count": 81,
   "metadata": {},
   "outputs": [
    {
     "data": {
      "text/html": [
       "<div>\n",
       "<style scoped>\n",
       "    .dataframe tbody tr th:only-of-type {\n",
       "        vertical-align: middle;\n",
       "    }\n",
       "\n",
       "    .dataframe tbody tr th {\n",
       "        vertical-align: top;\n",
       "    }\n",
       "\n",
       "    .dataframe thead th {\n",
       "        text-align: right;\n",
       "    }\n",
       "</style>\n",
       "<table border=\"1\" class=\"dataframe\">\n",
       "  <thead>\n",
       "    <tr style=\"text-align: right;\">\n",
       "      <th></th>\n",
       "      <th>tp</th>\n",
       "      <th>fp</th>\n",
       "      <th>fn</th>\n",
       "      <th>tn</th>\n",
       "      <th>recall</th>\n",
       "      <th>precision</th>\n",
       "      <th>accuracy</th>\n",
       "      <th>f1</th>\n",
       "      <th>mcc</th>\n",
       "    </tr>\n",
       "    <tr>\n",
       "      <th>caller</th>\n",
       "      <th></th>\n",
       "      <th></th>\n",
       "      <th></th>\n",
       "      <th></th>\n",
       "      <th></th>\n",
       "      <th></th>\n",
       "      <th></th>\n",
       "      <th></th>\n",
       "      <th></th>\n",
       "    </tr>\n",
       "  </thead>\n",
       "  <tbody>\n",
       "    <tr>\n",
       "      <th>polyfuseGBC6features</th>\n",
       "      <td>439.000000</td>\n",
       "      <td>45.583333</td>\n",
       "      <td>61.000000</td>\n",
       "      <td>407.500000</td>\n",
       "      <td>0.878000</td>\n",
       "      <td>0.906123</td>\n",
       "      <td>0.888269</td>\n",
       "      <td>0.891762</td>\n",
       "      <td>0.776292</td>\n",
       "    </tr>\n",
       "    <tr>\n",
       "      <th>polyfusedefaultGBC6features</th>\n",
       "      <td>437.000000</td>\n",
       "      <td>45.416667</td>\n",
       "      <td>63.000000</td>\n",
       "      <td>407.666667</td>\n",
       "      <td>0.874000</td>\n",
       "      <td>0.906046</td>\n",
       "      <td>0.886264</td>\n",
       "      <td>0.889639</td>\n",
       "      <td>0.772434</td>\n",
       "    </tr>\n",
       "    <tr>\n",
       "      <th>polyfuseRFC6features</th>\n",
       "      <td>442.833333</td>\n",
       "      <td>61.583333</td>\n",
       "      <td>57.166667</td>\n",
       "      <td>391.500000</td>\n",
       "      <td>0.885667</td>\n",
       "      <td>0.878258</td>\n",
       "      <td>0.875374</td>\n",
       "      <td>0.881807</td>\n",
       "      <td>0.749530</td>\n",
       "    </tr>\n",
       "    <tr>\n",
       "      <th>polyfuseGBC4features</th>\n",
       "      <td>414.166667</td>\n",
       "      <td>44.333333</td>\n",
       "      <td>85.833333</td>\n",
       "      <td>408.750000</td>\n",
       "      <td>0.828333</td>\n",
       "      <td>0.903448</td>\n",
       "      <td>0.863413</td>\n",
       "      <td>0.864198</td>\n",
       "      <td>0.729589</td>\n",
       "    </tr>\n",
       "    <tr>\n",
       "      <th>polyfusedefaultGBC4features</th>\n",
       "      <td>414.500000</td>\n",
       "      <td>46.166667</td>\n",
       "      <td>85.500000</td>\n",
       "      <td>406.916667</td>\n",
       "      <td>0.829000</td>\n",
       "      <td>0.899915</td>\n",
       "      <td>0.861791</td>\n",
       "      <td>0.862933</td>\n",
       "      <td>0.726001</td>\n",
       "    </tr>\n",
       "    <tr>\n",
       "      <th>polyfuseRFC4features</th>\n",
       "      <td>414.333333</td>\n",
       "      <td>57.916667</td>\n",
       "      <td>85.666667</td>\n",
       "      <td>395.166667</td>\n",
       "      <td>0.828667</td>\n",
       "      <td>0.877529</td>\n",
       "      <td>0.849345</td>\n",
       "      <td>0.852288</td>\n",
       "      <td>0.699312</td>\n",
       "    </tr>\n",
       "    <tr>\n",
       "      <th>starfusion</th>\n",
       "      <td>403.083333</td>\n",
       "      <td>53.166667</td>\n",
       "      <td>96.916667</td>\n",
       "      <td>399.916667</td>\n",
       "      <td>0.806167</td>\n",
       "      <td>0.883525</td>\n",
       "      <td>0.842497</td>\n",
       "      <td>0.843047</td>\n",
       "      <td>0.687987</td>\n",
       "    </tr>\n",
       "    <tr>\n",
       "      <th>fusioncatcher</th>\n",
       "      <td>371.500000</td>\n",
       "      <td>71.750000</td>\n",
       "      <td>128.500000</td>\n",
       "      <td>381.333333</td>\n",
       "      <td>0.743000</td>\n",
       "      <td>0.838430</td>\n",
       "      <td>0.789370</td>\n",
       "      <td>0.787688</td>\n",
       "      <td>0.583872</td>\n",
       "    </tr>\n",
       "    <tr>\n",
       "      <th>arriba</th>\n",
       "      <td>417.500000</td>\n",
       "      <td>141.500000</td>\n",
       "      <td>82.500000</td>\n",
       "      <td>311.583333</td>\n",
       "      <td>0.835000</td>\n",
       "      <td>0.747741</td>\n",
       "      <td>0.764998</td>\n",
       "      <td>0.788789</td>\n",
       "      <td>0.528833</td>\n",
       "    </tr>\n",
       "    <tr>\n",
       "      <th>starseqr</th>\n",
       "      <td>401.583333</td>\n",
       "      <td>129.416667</td>\n",
       "      <td>98.416667</td>\n",
       "      <td>323.666667</td>\n",
       "      <td>0.803167</td>\n",
       "      <td>0.756801</td>\n",
       "      <td>0.760814</td>\n",
       "      <td>0.779152</td>\n",
       "      <td>0.518757</td>\n",
       "    </tr>\n",
       "    <tr>\n",
       "      <th>pizzly</th>\n",
       "      <td>444.833333</td>\n",
       "      <td>304.000000</td>\n",
       "      <td>55.166667</td>\n",
       "      <td>149.083333</td>\n",
       "      <td>0.889667</td>\n",
       "      <td>0.596208</td>\n",
       "      <td>0.624639</td>\n",
       "      <td>0.713384</td>\n",
       "      <td>0.268197</td>\n",
       "    </tr>\n",
       "  </tbody>\n",
       "</table>\n",
       "</div>"
      ],
      "text/plain": [
       "                                     tp          fp          fn          tn  \\\n",
       "caller                                                                        \n",
       "polyfuseGBC6features         439.000000  45.583333   61.000000   407.500000   \n",
       "polyfusedefaultGBC6features  437.000000  45.416667   63.000000   407.666667   \n",
       "polyfuseRFC6features         442.833333  61.583333   57.166667   391.500000   \n",
       "polyfuseGBC4features         414.166667  44.333333   85.833333   408.750000   \n",
       "polyfusedefaultGBC4features  414.500000  46.166667   85.500000   406.916667   \n",
       "polyfuseRFC4features         414.333333  57.916667   85.666667   395.166667   \n",
       "starfusion                   403.083333  53.166667   96.916667   399.916667   \n",
       "fusioncatcher                371.500000  71.750000   128.500000  381.333333   \n",
       "arriba                       417.500000  141.500000  82.500000   311.583333   \n",
       "starseqr                     401.583333  129.416667  98.416667   323.666667   \n",
       "pizzly                       444.833333  304.000000  55.166667   149.083333   \n",
       "\n",
       "                               recall  precision  accuracy        f1       mcc  \n",
       "caller                                                                          \n",
       "polyfuseGBC6features         0.878000  0.906123   0.888269  0.891762  0.776292  \n",
       "polyfusedefaultGBC6features  0.874000  0.906046   0.886264  0.889639  0.772434  \n",
       "polyfuseRFC6features         0.885667  0.878258   0.875374  0.881807  0.749530  \n",
       "polyfuseGBC4features         0.828333  0.903448   0.863413  0.864198  0.729589  \n",
       "polyfusedefaultGBC4features  0.829000  0.899915   0.861791  0.862933  0.726001  \n",
       "polyfuseRFC4features         0.828667  0.877529   0.849345  0.852288  0.699312  \n",
       "starfusion                   0.806167  0.883525   0.842497  0.843047  0.687987  \n",
       "fusioncatcher                0.743000  0.838430   0.789370  0.787688  0.583872  \n",
       "arriba                       0.835000  0.747741   0.764998  0.788789  0.528833  \n",
       "starseqr                     0.803167  0.756801   0.760814  0.779152  0.518757  \n",
       "pizzly                       0.889667  0.596208   0.624639  0.713384  0.268197  "
      ]
     },
     "execution_count": 81,
     "metadata": {},
     "output_type": "execute_result"
    }
   ],
   "source": [
    "pd.options.display.max_rows = None\n",
    "summary.groupby('caller').mean().sort_values(by='accuracy', ascending=False)"
   ]
  },
  {
   "cell_type": "code",
   "execution_count": 82,
   "metadata": {},
   "outputs": [
    {
     "name": "stdout",
     "output_type": "stream",
     "text": [
      "polyfuseRFC4features\n",
      "polyfuseGBC4features\n",
      "polyfusedefaultGBC4features\n",
      "polyfuseRFC6features\n",
      "polyfuseGBC6features\n",
      "polyfusedefaultGBC6features\n"
     ]
    },
    {
     "data": {
      "text/plain": [
       "<matplotlib.legend.Legend at 0x7fc5c4c49d30>"
      ]
     },
     "execution_count": 82,
     "metadata": {},
     "output_type": "execute_result"
    },
    {
     "data": {
      "image/png": "[encoded data removed]",
      "text/plain": [
       "<Figure size 432x288 with 1 Axes>"
      ]
     },
     "metadata": {
      "needs_background": "light"
     },
     "output_type": "display_data"
    }
   ],
   "source": [
    "sample = model_data['sample'].unique()[0]\n",
    "plt.figure()\n",
    "for caller in model_data.caller.unique():\n",
    "    print(caller)\n",
    "    try:\n",
    "        y_true, y_pred, y_prob = apps.score_model(out_dir, sample, caller).result()\n",
    "    except:\n",
    "        continue\n",
    "\n",
    "    auroc = metrics.roc_auc_score(y_true, y_pred)\n",
    "    fpr, tpr, thresholds = metrics.roc_curve(y_true, y_prob)\n",
    "    plt.plot(fpr, tpr, label='{} (AUROC = {:0.2f})'.format(caller, auroc))\n",
    "\n",
    "plt.xlabel('false positive rate')\n",
    "plt.ylabel('true positive rate')\n",
    "plt.legend(frameon=False)"
   ]
  },
  {
   "cell_type": "code",
   "execution_count": 83,
   "metadata": {},
   "outputs": [
    {
     "name": "stdout",
     "output_type": "stream",
     "text": [
      "polyfuseRFC4features\n"
     ]
    },
    {
     "ename": "NameError",
     "evalue": "name 'recall' is not defined",
     "output_type": "error",
     "traceback": [
      "\u001b[0;31m---------------------------------------------------------------------------\u001b[0m",
      "\u001b[0;31mNameError\u001b[0m                                 Traceback (most recent call last)",
      "\u001b[0;32m<ipython-input-83-65f8841748f4>\u001b[0m in \u001b[0;36m<module>\u001b[0;34m\u001b[0m\n\u001b[1;32m      8\u001b[0m         \u001b[0;32mcontinue\u001b[0m\u001b[0;34m\u001b[0m\u001b[0m\n\u001b[1;32m      9\u001b[0m \u001b[0;34m\u001b[0m\u001b[0m\n\u001b[0;32m---> 10\u001b[0;31m     \u001b[0mauprc\u001b[0m \u001b[0;34m=\u001b[0m \u001b[0mauc\u001b[0m\u001b[0;34m(\u001b[0m\u001b[0mrecall\u001b[0m\u001b[0;34m,\u001b[0m \u001b[0mprecision\u001b[0m\u001b[0;34m)\u001b[0m\u001b[0;34m\u001b[0m\u001b[0m\n\u001b[0m\u001b[1;32m     11\u001b[0m     \u001b[0mprecision\u001b[0m\u001b[0;34m,\u001b[0m \u001b[0mrecall\u001b[0m\u001b[0;34m,\u001b[0m \u001b[0mthresholds\u001b[0m \u001b[0;34m=\u001b[0m \u001b[0mprecision_recall_curve\u001b[0m\u001b[0;34m(\u001b[0m\u001b[0my_true\u001b[0m\u001b[0;34m,\u001b[0m \u001b[0my_prob\u001b[0m\u001b[0;34m)\u001b[0m\u001b[0;34m\u001b[0m\u001b[0m\n\u001b[1;32m     12\u001b[0m     \u001b[0mplt\u001b[0m\u001b[0;34m.\u001b[0m\u001b[0mplot\u001b[0m\u001b[0;34m(\u001b[0m\u001b[0mprecision\u001b[0m\u001b[0;34m,\u001b[0m \u001b[0mrecall\u001b[0m\u001b[0;34m,\u001b[0m \u001b[0mlabel\u001b[0m\u001b[0;34m=\u001b[0m\u001b[0;34m'{} (AUPRC = {:0.2f})'\u001b[0m\u001b[0;34m.\u001b[0m\u001b[0mformat\u001b[0m\u001b[0;34m(\u001b[0m\u001b[0mcaller\u001b[0m\u001b[0;34m,\u001b[0m \u001b[0mauroc\u001b[0m\u001b[0;34m)\u001b[0m\u001b[0;34m)\u001b[0m\u001b[0;34m\u001b[0m\u001b[0m\n",
      "\u001b[0;31mNameError\u001b[0m: name 'recall' is not defined"
     ]
    },
    {
     "data": {
      "text/plain": [
       "<Figure size 432x288 with 0 Axes>"
      ]
     },
     "metadata": {},
     "output_type": "display_data"
    }
   ],
   "source": [
    "sample = model_data['sample'].unique()[0]\n",
    "plt.figure()\n",
    "for caller in model_data.caller.unique():\n",
    "    print(caller)\n",
    "    try:\n",
    "        y_true, y_pred, y_prob = apps.score_model(out_dir, sample, caller).result()\n",
    "    except:\n",
    "        continue\n",
    "\n",
    "    auprc = auc(recall, precision)\n",
    "    precision, recall, thresholds = precision_recall_curve(y_true, y_prob)\n",
    "    plt.plot(precision, recall, label='{} (AUPRC = {:0.2f})'.format(caller, auroc))\n",
    "\n",
    "plt.xlabel('precision')\n",
    "plt.ylabel('recall')\n",
    "plt.legend(frameon=False)\n",
    "# looks funky, but see: https://stats.stackexchange.com/questions/183504/are-precision-and-recall-supposed-to-be-monotonic-to-classification-threshold"
   ]
  },
  {
   "cell_type": "code",
   "execution_count": 20,
   "metadata": {},
   "outputs": [],
   "source": [
    "arriba = pd.read_pickle('/cephfs/users/annawoodard/polyfuse/data/sim_50/processed/LIB-04674wt/arriba/fusions.pkl')"
   ]
  },
  {
   "cell_type": "code",
   "execution_count": 21,
   "metadata": {},
   "outputs": [
    {
     "data": {
      "text/plain": [
       "0      3\n",
       "1      3\n",
       "2      3\n",
       "3      3\n",
       "4      3\n",
       "      ..\n",
       "552    1\n",
       "553    1\n",
       "554    1\n",
       "555    1\n",
       "556    1\n",
       "Name: confidence, Length: 557, dtype: int64"
      ]
     },
     "execution_count": 21,
     "metadata": {},
     "output_type": "execute_result"
    }
   ],
   "source": [
    "arriba['confidence']"
   ]
  },
  {
   "cell_type": "code",
   "execution_count": 22,
   "metadata": {},
   "outputs": [],
   "source": [
    "pizzly = pd.read_pickle('/cephfs/users/annawoodard/polyfuse/data/sim_50/processed/LIB-04674wt/pizzly/fusions.pkl')"
   ]
  },
  {
   "cell_type": "code",
   "execution_count": 23,
   "metadata": {},
   "outputs": [
    {
     "data": {
      "text/html": [
       "<div>\n",
       "<style scoped>\n",
       "    .dataframe tbody tr th:only-of-type {\n",
       "        vertical-align: middle;\n",
       "    }\n",
       "\n",
       "    .dataframe tbody tr th {\n",
       "        vertical-align: top;\n",
       "    }\n",
       "\n",
       "    .dataframe thead th {\n",
       "        text-align: right;\n",
       "    }\n",
       "</style>\n",
       "<table border=\"1\" class=\"dataframe\">\n",
       "  <thead>\n",
       "    <tr style=\"text-align: right;\">\n",
       "      <th></th>\n",
       "      <th>gene1</th>\n",
       "      <th>gene2</th>\n",
       "      <th>junction_reads</th>\n",
       "      <th>spanning_reads</th>\n",
       "      <th>caller</th>\n",
       "      <th>sample</th>\n",
       "    </tr>\n",
       "  </thead>\n",
       "  <tbody>\n",
       "    <tr>\n",
       "      <th>0</th>\n",
       "      <td>KRT36</td>\n",
       "      <td>AC084121.11</td>\n",
       "      <td>8</td>\n",
       "      <td>0</td>\n",
       "      <td>pizzly</td>\n",
       "      <td>LIB-04674wt</td>\n",
       "    </tr>\n",
       "    <tr>\n",
       "      <th>1</th>\n",
       "      <td>KRT36</td>\n",
       "      <td>AC084121.6</td>\n",
       "      <td>7</td>\n",
       "      <td>0</td>\n",
       "      <td>pizzly</td>\n",
       "      <td>LIB-04674wt</td>\n",
       "    </tr>\n",
       "    <tr>\n",
       "      <th>2</th>\n",
       "      <td>KRT36</td>\n",
       "      <td>AC134684.11</td>\n",
       "      <td>4</td>\n",
       "      <td>0</td>\n",
       "      <td>pizzly</td>\n",
       "      <td>LIB-04674wt</td>\n",
       "    </tr>\n",
       "    <tr>\n",
       "      <th>3</th>\n",
       "      <td>KRT36</td>\n",
       "      <td>AC084121.7</td>\n",
       "      <td>8</td>\n",
       "      <td>0</td>\n",
       "      <td>pizzly</td>\n",
       "      <td>LIB-04674wt</td>\n",
       "    </tr>\n",
       "    <tr>\n",
       "      <th>4</th>\n",
       "      <td>KRT36</td>\n",
       "      <td>AC084121.5</td>\n",
       "      <td>8</td>\n",
       "      <td>0</td>\n",
       "      <td>pizzly</td>\n",
       "      <td>LIB-04674wt</td>\n",
       "    </tr>\n",
       "    <tr>\n",
       "      <th>...</th>\n",
       "      <td>...</td>\n",
       "      <td>...</td>\n",
       "      <td>...</td>\n",
       "      <td>...</td>\n",
       "      <td>...</td>\n",
       "      <td>...</td>\n",
       "    </tr>\n",
       "    <tr>\n",
       "      <th>737</th>\n",
       "      <td>DAZ4</td>\n",
       "      <td>TMEM217</td>\n",
       "      <td>5</td>\n",
       "      <td>0</td>\n",
       "      <td>pizzly</td>\n",
       "      <td>LIB-04674wt</td>\n",
       "    </tr>\n",
       "    <tr>\n",
       "      <th>738</th>\n",
       "      <td>DAZ1</td>\n",
       "      <td>TMEM217</td>\n",
       "      <td>5</td>\n",
       "      <td>0</td>\n",
       "      <td>pizzly</td>\n",
       "      <td>LIB-04674wt</td>\n",
       "    </tr>\n",
       "    <tr>\n",
       "      <th>739</th>\n",
       "      <td>HSH2D</td>\n",
       "      <td>TREH</td>\n",
       "      <td>27</td>\n",
       "      <td>5</td>\n",
       "      <td>pizzly</td>\n",
       "      <td>LIB-04674wt</td>\n",
       "    </tr>\n",
       "    <tr>\n",
       "      <th>740</th>\n",
       "      <td>MRPL51</td>\n",
       "      <td>REM2</td>\n",
       "      <td>37</td>\n",
       "      <td>6</td>\n",
       "      <td>pizzly</td>\n",
       "      <td>LIB-04674wt</td>\n",
       "    </tr>\n",
       "    <tr>\n",
       "      <th>741</th>\n",
       "      <td>DLGAP1</td>\n",
       "      <td>MEI4</td>\n",
       "      <td>486</td>\n",
       "      <td>191</td>\n",
       "      <td>pizzly</td>\n",
       "      <td>LIB-04674wt</td>\n",
       "    </tr>\n",
       "  </tbody>\n",
       "</table>\n",
       "<p>742 rows × 6 columns</p>\n",
       "</div>"
      ],
      "text/plain": [
       "      gene1        gene2  junction_reads  spanning_reads  caller       sample\n",
       "0    KRT36   AC084121.11  8               0               pizzly  LIB-04674wt\n",
       "1    KRT36   AC084121.6   7               0               pizzly  LIB-04674wt\n",
       "2    KRT36   AC134684.11  4               0               pizzly  LIB-04674wt\n",
       "3    KRT36   AC084121.7   8               0               pizzly  LIB-04674wt\n",
       "4    KRT36   AC084121.5   8               0               pizzly  LIB-04674wt\n",
       "..     ...          ...  ..              ..                  ...          ...\n",
       "737  DAZ4    TMEM217      5               0               pizzly  LIB-04674wt\n",
       "738  DAZ1    TMEM217      5               0               pizzly  LIB-04674wt\n",
       "739  HSH2D   TREH         27              5               pizzly  LIB-04674wt\n",
       "740  MRPL51  REM2         37              6               pizzly  LIB-04674wt\n",
       "741  DLGAP1  MEI4         486             191             pizzly  LIB-04674wt\n",
       "\n",
       "[742 rows x 6 columns]"
      ]
     },
     "execution_count": 23,
     "metadata": {},
     "output_type": "execute_result"
    }
   ],
   "source": [
    "pizzly"
   ]
  },
  {
   "cell_type": "code",
   "execution_count": 24,
   "metadata": {},
   "outputs": [],
   "source": [
    "x = pd.concat([pizzly, arriba], ignore_index=True, sort=False)"
   ]
  },
  {
   "cell_type": "code",
   "execution_count": 32,
   "metadata": {},
   "outputs": [
    {
     "data": {
      "text/plain": [
       "0       NaN             \n",
       "1       NaN             \n",
       "2       NaN             \n",
       "3       NaN             \n",
       "4       NaN             \n",
       "       ...              \n",
       "1294    RAB39B--RABGEF1 \n",
       "1295    MUC16--UPK2     \n",
       "1296    GAGE13--LRRC28  \n",
       "1297    IL13RA1--TBC1D3G\n",
       "1298    AP1S3--ARHGEF19 \n",
       "Name: fusion, Length: 1299, dtype: object"
      ]
     },
     "execution_count": 32,
     "metadata": {},
     "output_type": "execute_result"
    }
   ],
   "source": [
    "x.fusion"
   ]
  },
  {
   "cell_type": "code",
   "execution_count": 40,
   "metadata": {},
   "outputs": [
    {
     "data": {
      "text/plain": [
       "'splice-site'"
      ]
     },
     "execution_count": 40,
     "metadata": {},
     "output_type": "execute_result"
    }
   ],
   "source": [
    "x.loc[x.fusion_transcript.notna(), 'site1'].values[0]"
   ]
  },
  {
   "cell_type": "code",
   "execution_count": null,
   "metadata": {},
   "outputs": [],
   "source": []
  }
 ],
 "metadata": {
  "kernelspec": {
   "display_name": "Python 3",
   "language": "python",
   "name": "python3"
  },
  "language_info": {
   "codemirror_mode": {
    "name": "ipython",
    "version": 3
   },
   "file_extension": ".py",
   "mimetype": "text/x-python",
   "name": "python",
   "nbconvert_exporter": "python",
   "pygments_lexer": "ipython3",
   "version": "3.7.0"
  }
 },
 "nbformat": 4,
 "nbformat_minor": 2
}
