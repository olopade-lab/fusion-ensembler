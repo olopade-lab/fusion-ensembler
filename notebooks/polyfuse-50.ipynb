{
 "cells": [
  {
   "cell_type": "code",
   "execution_count": 1,
   "metadata": {},
   "outputs": [],
   "source": [
    "%load_ext autoreload\n",
    "%autoreload 2"
   ]
  },
  {
   "cell_type": "code",
   "execution_count": 25,
   "metadata": {},
   "outputs": [],
   "source": [
    "import os\n",
    "import glob\n",
    "import re\n",
    "import itertools\n",
    "import time\n",
    "import joblib\n",
    "import random\n",
    "\n",
    "import pandas as pd\n",
    "pd.options.display.max_columns = None\n",
    "pd.options.display.max_rows = 15\n",
    "pd.options.display.max_colwidth = -1\n",
    "import numpy as np\n",
    "import seaborn as sns\n",
    "import matplotlib.pyplot as plt\n",
    "\n",
    "from sklearn import metrics\n",
    "from sklearn.metrics import precision_recall_curve\n",
    "from sklearn.metrics import plot_precision_recall_curve\n",
    "from sklearn.metrics import average_precision_score, auc, roc_curve, make_scorer\n",
    "from sklearn import svm, ensemble, datasets\n",
    "from sklearn.model_selection import GridSearchCV"
   ]
  },
  {
   "cell_type": "code",
   "execution_count": 3,
   "metadata": {},
   "outputs": [],
   "source": [
    "import parsl\n",
    "parsl.clear()\n",
    "\n",
    "from polyfuse.configs.local import config\n",
    "parsl.load(config)\n",
    "\n",
    "#parsl.load()\n",
    "\n",
    "from polyfuse import apps, transformations"
   ]
  },
  {
   "cell_type": "code",
   "execution_count": 4,
   "metadata": {},
   "outputs": [],
   "source": [
    "out_dir = '/cephfs/users/annawoodard/polyfuse/data/sim_50/processed'\n",
    "training_fraction = 0.75"
   ]
  },
  {
   "cell_type": "code",
   "execution_count": 5,
   "metadata": {},
   "outputs": [],
   "source": [
    "truth = apps.concatenate_true_fusions('/cephfs/users/annawoodard/fusion-simulation/data/processed/*', out_dir)"
   ]
  },
  {
   "cell_type": "code",
   "execution_count": 6,
   "metadata": {},
   "outputs": [],
   "source": [
    "truth = pd.read_hdf(truth.result(), 'data')"
   ]
  },
  {
   "cell_type": "code",
   "execution_count": 7,
   "metadata": {},
   "outputs": [],
   "source": [
    "callers = ['starseqr', 'starfusion', 'arriba', 'fusioncatcher', 'pizzly']\n",
    "indices = dict((c, i) for i, c in enumerate(callers))"
   ]
  },
  {
   "cell_type": "code",
   "execution_count": 8,
   "metadata": {},
   "outputs": [],
   "source": [
    "parsed_caller_data = apps.parse_caller_data(out_dir, callers)"
   ]
  },
  {
   "cell_type": "code",
   "execution_count": 9,
   "metadata": {},
   "outputs": [],
   "source": [
    "caller_data_path = apps.concatenate_caller_data(out_dir, inputs=parsed_caller_data)\n",
    "caller_data = pd.read_hdf(caller_data_path.result(), 'data')"
   ]
  },
  {
   "cell_type": "code",
   "execution_count": 10,
   "metadata": {},
   "outputs": [],
   "source": [
    "samples = sorted(caller_data['sample'].unique())\n",
    "#random.shuffle(samples)\n",
    "training_samples = samples[:int(len(samples) * training_fraction)]\n",
    "testing_samples = samples[int(len(samples) * training_fraction):]"
   ]
  },
  {
   "cell_type": "code",
   "execution_count": 11,
   "metadata": {},
   "outputs": [
    {
     "name": "stdout",
     "output_type": "stream",
     "text": [
      "assembled data in 36.4s\n"
     ]
    }
   ],
   "source": [
    "data = [apps.assemble_data(sample, callers, out_dir) for sample in samples]\n",
    "\n",
    "start = time.time()\n",
    "X = np.array(sum([data.result()[0] for data in data], []))\n",
    "Y = np.array(sum([data.result()[1] for data in data], []))\n",
    "\n",
    "print('assembled data in {:.1f}s'.format((time.time() - start)))"
   ]
  },
  {
   "cell_type": "code",
   "execution_count": 12,
   "metadata": {},
   "outputs": [
    {
     "data": {
      "text/plain": [
       "['accuracy',\n",
       " 'adjusted_mutual_info_score',\n",
       " 'adjusted_rand_score',\n",
       " 'average_precision',\n",
       " 'balanced_accuracy',\n",
       " 'completeness_score',\n",
       " 'explained_variance',\n",
       " 'f1',\n",
       " 'f1_macro',\n",
       " 'f1_micro',\n",
       " 'f1_samples',\n",
       " 'f1_weighted',\n",
       " 'fowlkes_mallows_score',\n",
       " 'homogeneity_score',\n",
       " 'jaccard',\n",
       " 'jaccard_macro',\n",
       " 'jaccard_micro',\n",
       " 'jaccard_samples',\n",
       " 'jaccard_weighted',\n",
       " 'max_error',\n",
       " 'mutual_info_score',\n",
       " 'neg_brier_score',\n",
       " 'neg_log_loss',\n",
       " 'neg_mean_absolute_error',\n",
       " 'neg_mean_gamma_deviance',\n",
       " 'neg_mean_poisson_deviance',\n",
       " 'neg_mean_squared_error',\n",
       " 'neg_mean_squared_log_error',\n",
       " 'neg_median_absolute_error',\n",
       " 'neg_root_mean_squared_error',\n",
       " 'normalized_mutual_info_score',\n",
       " 'precision',\n",
       " 'precision_macro',\n",
       " 'precision_micro',\n",
       " 'precision_samples',\n",
       " 'precision_weighted',\n",
       " 'r2',\n",
       " 'recall',\n",
       " 'recall_macro',\n",
       " 'recall_micro',\n",
       " 'recall_samples',\n",
       " 'recall_weighted',\n",
       " 'roc_auc',\n",
       " 'roc_auc_ovo',\n",
       " 'roc_auc_ovo_weighted',\n",
       " 'roc_auc_ovr',\n",
       " 'roc_auc_ovr_weighted',\n",
       " 'v_measure_score']"
      ]
     },
     "execution_count": 12,
     "metadata": {},
     "output_type": "execute_result"
    }
   ],
   "source": [
    "import sklearn\n",
    "sorted(sklearn.metrics.SCORERS.keys())"
   ]
  },
  {
   "cell_type": "code",
   "execution_count": null,
   "metadata": {},
   "outputs": [],
   "source": [
    "start = time.time()\n",
    "\n",
    "n = 12000\n",
    "def au_prc(ground_truth, predictions):\n",
    "    try:\n",
    "        precision, recall, _ = precision_recall_curve(ground_truth, predictions)\n",
    "        result = auc(precision, recall)\n",
    "    except ValueError:\n",
    "        result = 0\n",
    "    \n",
    "    return result\n",
    "\n",
    "au_prc_score = make_scorer(au_prc, greater_is_better=True)\n",
    "\n",
    "param_grid = [\n",
    "    {'kernel': ['rbf'],\n",
    "     'gamma': [1e-3, 1e-4],\n",
    "     'C': [1, 10, 100, 1000]\n",
    "    },\n",
    "    {'kernel': ['linear'],\n",
    "     'C': [1, 10, 100, 1000]\n",
    "    }\n",
    "]\n",
    "\n",
    "param_grid = {\n",
    "    'kernel': ['rbf'],\n",
    "    'C': [1, 10, 100, 1000],\n",
    "    'gamma': [1e-3, 1e-4, 1e-6, 1e-7, 'auto']\n",
    "}\n",
    "\n",
    "clf = GridSearchCV(\n",
    "#    svm.SVC(), param_grid, scoring='f1', n_jobs=-1, cv=3\n",
    "#    svm.SVC(), param_grid, scoring='roc_auc', n_jobs=-1, cv=3\n",
    "#     svm.SVC(), param_grid, scoring=au_prc_score, n_jobs=-1, cv=3\n",
    "    svm.SVC(), param_grid, scoring='accuracy', n_jobs=-1, cv=3\n",
    ")\n",
    "clf.fit(transformations.flatten(X), Y)\n",
    "\n",
    "print(\"Best parameters set found on development set:\")\n",
    "print()\n",
    "print(clf.best_params_)\n",
    "print(clf.best_score_)\n",
    "print()\n",
    "print(\"Grid scores on development set:\")\n",
    "print()\n",
    "means = clf.cv_results_['mean_test_score']\n",
    "stds = clf.cv_results_['std_test_score']\n",
    "for mean, std, params in zip(means, stds, clf.cv_results_['params']):\n",
    "    print(\"%0.3f (+/-%0.03f) for %r\" % (mean, std * 2, params))\n",
    "\n",
    "print('tuned parameters in {:.1f}s'.format((time.time() - start)))"
   ]
  },
  {
   "cell_type": "code",
   "execution_count": 33,
   "metadata": {},
   "outputs": [
    {
     "name": "stdout",
     "output_type": "stream",
     "text": [
      "Best parameters set found on development set:\n",
      "\n",
      "{'learning_rate': 0.05, 'n_estimators': 1250}\n",
      "0.8861970170021977\n",
      "\n",
      "Grid scores on development set:\n",
      "\n",
      "0.885 (+/-0.002) for {'learning_rate': 0.15, 'n_estimators': 100}\n",
      "0.886 (+/-0.003) for {'learning_rate': 0.15, 'n_estimators': 250}\n",
      "0.885 (+/-0.003) for {'learning_rate': 0.15, 'n_estimators': 500}\n",
      "0.884 (+/-0.004) for {'learning_rate': 0.15, 'n_estimators': 750}\n",
      "0.883 (+/-0.004) for {'learning_rate': 0.15, 'n_estimators': 1000}\n",
      "0.882 (+/-0.005) for {'learning_rate': 0.15, 'n_estimators': 1250}\n",
      "0.881 (+/-0.005) for {'learning_rate': 0.15, 'n_estimators': 1500}\n",
      "0.880 (+/-0.006) for {'learning_rate': 0.15, 'n_estimators': 1750}\n",
      "0.885 (+/-0.003) for {'learning_rate': 0.1, 'n_estimators': 100}\n",
      "0.886 (+/-0.003) for {'learning_rate': 0.1, 'n_estimators': 250}\n",
      "0.886 (+/-0.004) for {'learning_rate': 0.1, 'n_estimators': 500}\n",
      "0.886 (+/-0.004) for {'learning_rate': 0.1, 'n_estimators': 750}\n",
      "0.885 (+/-0.004) for {'learning_rate': 0.1, 'n_estimators': 1000}\n",
      "0.885 (+/-0.004) for {'learning_rate': 0.1, 'n_estimators': 1250}\n",
      "0.884 (+/-0.004) for {'learning_rate': 0.1, 'n_estimators': 1500}\n",
      "0.883 (+/-0.004) for {'learning_rate': 0.1, 'n_estimators': 1750}\n",
      "0.884 (+/-0.004) for {'learning_rate': 0.05, 'n_estimators': 100}\n",
      "0.885 (+/-0.003) for {'learning_rate': 0.05, 'n_estimators': 250}\n",
      "0.886 (+/-0.003) for {'learning_rate': 0.05, 'n_estimators': 500}\n",
      "0.886 (+/-0.004) for {'learning_rate': 0.05, 'n_estimators': 750}\n",
      "0.886 (+/-0.004) for {'learning_rate': 0.05, 'n_estimators': 1000}\n",
      "0.886 (+/-0.004) for {'learning_rate': 0.05, 'n_estimators': 1250}\n",
      "0.886 (+/-0.003) for {'learning_rate': 0.05, 'n_estimators': 1500}\n",
      "0.885 (+/-0.003) for {'learning_rate': 0.05, 'n_estimators': 1750}\n",
      "0.850 (+/-0.006) for {'learning_rate': 0.01, 'n_estimators': 100}\n",
      "0.860 (+/-0.022) for {'learning_rate': 0.01, 'n_estimators': 250}\n",
      "0.885 (+/-0.003) for {'learning_rate': 0.01, 'n_estimators': 500}\n",
      "0.885 (+/-0.003) for {'learning_rate': 0.01, 'n_estimators': 750}\n",
      "0.886 (+/-0.003) for {'learning_rate': 0.01, 'n_estimators': 1000}\n",
      "0.886 (+/-0.003) for {'learning_rate': 0.01, 'n_estimators': 1250}\n",
      "0.886 (+/-0.003) for {'learning_rate': 0.01, 'n_estimators': 1500}\n",
      "0.886 (+/-0.004) for {'learning_rate': 0.01, 'n_estimators': 1750}\n",
      "0.848 (+/-0.009) for {'learning_rate': 0.005, 'n_estimators': 100}\n",
      "0.850 (+/-0.005) for {'learning_rate': 0.005, 'n_estimators': 250}\n",
      "0.851 (+/-0.005) for {'learning_rate': 0.005, 'n_estimators': 500}\n",
      "0.880 (+/-0.004) for {'learning_rate': 0.005, 'n_estimators': 750}\n",
      "0.884 (+/-0.003) for {'learning_rate': 0.005, 'n_estimators': 1000}\n",
      "0.885 (+/-0.002) for {'learning_rate': 0.005, 'n_estimators': 1250}\n",
      "0.885 (+/-0.003) for {'learning_rate': 0.005, 'n_estimators': 1500}\n",
      "0.885 (+/-0.003) for {'learning_rate': 0.005, 'n_estimators': 1750}\n",
      "0.621 (+/-0.003) for {'learning_rate': 0.001, 'n_estimators': 100}\n",
      "0.844 (+/-0.009) for {'learning_rate': 0.001, 'n_estimators': 250}\n",
      "0.849 (+/-0.007) for {'learning_rate': 0.001, 'n_estimators': 500}\n",
      "0.850 (+/-0.006) for {'learning_rate': 0.001, 'n_estimators': 750}\n",
      "0.850 (+/-0.005) for {'learning_rate': 0.001, 'n_estimators': 1000}\n",
      "0.850 (+/-0.005) for {'learning_rate': 0.001, 'n_estimators': 1250}\n",
      "0.850 (+/-0.005) for {'learning_rate': 0.001, 'n_estimators': 1500}\n",
      "0.850 (+/-0.005) for {'learning_rate': 0.001, 'n_estimators': 1750}\n",
      "tuned parameters in 270.7s\n"
     ]
    }
   ],
   "source": [
    "start = time.time()\n",
    "\n",
    "def au_prc(ground_truth, predictions):\n",
    "    try:\n",
    "        precision, recall, _ = precision_recall_curve(ground_truth, predictions)\n",
    "        result = auc(precision, recall)\n",
    "    except ValueError:\n",
    "        result = 0\n",
    "    \n",
    "    return result\n",
    "\n",
    "au_prc_score = make_scorer(au_prc, greater_is_better=True)\n",
    "\n",
    "param_grid = {'learning_rate':[0.15,0.1,0.05,0.01,0.005,0.001], 'n_estimators':[100,250,500,750,1000,1250,1500,1750]}\n",
    "\n",
    "\n",
    "\n",
    "\n",
    "clf = GridSearchCV(\n",
    "#    svm.SVC(), param_grid, scoring='f1', n_jobs=-1, cv=3\n",
    "#    svm.SVC(), param_grid, scoring='roc_auc', n_jobs=-1, cv=3\n",
    "#    svm.SVC(), param_grid, scoring=au_prc_score, n_jobs=-1, cv=3\n",
    "#    svm.SVC(), param_grid, scoring='accuracy', n_jobs=-1, cv=3,\n",
    "    ensemble.GradientBoostingClassifier(max_depth=4, min_samples_split=2, min_samples_leaf=1, subsample=1,max_features='sqrt', random_state=10),\n",
    "    param_grid, scoring='accuracy', n_jobs=-1, cv=3,\n",
    ")\n",
    "clf.fit(X, Y)\n",
    "\n",
    "print(\"Best parameters set found on development set:\")\n",
    "print()\n",
    "print(clf.best_params_)\n",
    "print(clf.best_score_)\n",
    "print()\n",
    "print(\"Grid scores on development set:\")\n",
    "print()\n",
    "means = clf.cv_results_['mean_test_score']\n",
    "stds = clf.cv_results_['std_test_score']\n",
    "for mean, std, params in zip(means, stds, clf.cv_results_['params']):\n",
    "    print(\"%0.3f (+/-%0.03f) for %r\" % (mean, std * 2, params))\n",
    "\n",
    "print('tuned parameters in {:.1f}s'.format((time.time() - start)))"
   ]
  },
  {
   "cell_type": "code",
   "execution_count": 13,
   "metadata": {},
   "outputs": [
    {
     "name": "stdout",
     "output_type": "stream",
     "text": [
      "assembled data in 30.5s\n"
     ]
    }
   ],
   "source": [
    "training_data = [apps.assemble_data(sample, callers, out_dir) for sample in training_samples]\n",
    "\n",
    "start = time.time()\n",
    "X_train = np.array(sum([data.result()[0] for data in training_data], []))\n",
    "Y_train = np.array(sum([data.result()[1] for data in training_data], []))\n",
    "\n",
    "print('assembled data in {:.1f}s'.format((time.time() - start)))"
   ]
  },
  {
   "cell_type": "code",
   "execution_count": 16,
   "metadata": {},
   "outputs": [
    {
     "name": "stdout",
     "output_type": "stream",
     "text": [
      "fit models in 26.1s\n"
     ]
    }
   ],
   "source": [
    "start = time.time()\n",
    "os.makedirs(os.path.join(out_dir, 'models'), exist_ok=True)\n",
    "classifiers = []\n",
    "for features in [\n",
    "            #['pizzly', 'starseqr', 'fusioncatcher'],\n",
    "            ['pizzly', 'starfusion', 'arriba', 'fusioncatcher'],\n",
    "            callers,\n",
    "            #['arriba']\n",
    "            #['STARSEQR', 'PIZZLY', 'PRADA', 'FUSIONCATCHER_v1.10_June192019', 'ChimeraScan', 'ARRIBA', 'MapSplice'],\n",
    "            #['STARSEQR', 'PIZZLY', 'PRADA', 'FUSIONCATCHER_v1.10_June192019', 'ChimeraScan', 'ARRIBA', 'MapSplice', 'STAR_FUSION_v1.5'],\n",
    "            #['STARSEQR', 'ARRIBA', 'STAR_FUSION_v1.5']\n",
    "        ]:\n",
    "    \n",
    "    pruned_indices = [indices[f] for f in features]\n",
    "    \n",
    "    #label = 'LSVC{}features'.format(len(features))\n",
    "    #trans = 'flatten'\n",
    "    #classifier = svm.LinearSVC(probability=True)\n",
    "    #print(label, classifier.get_params())\n",
    "    #classifier.fit(getattr(transformations, trans)(X_train[:, pruned_indices]), Y_train)\n",
    "    #joblib.dump(classifier, os.path.join(out_dir, 'models', label + '.joblib'))\n",
    "    #classifiers += [(label, pruned_indices, trans)]\n",
    "\n",
    "    #label = 'DefaultSVC{}features'.format(len(features))\n",
    "    #trans = 'flatten'\n",
    "    #classifier = svm.SVC(probability=True)\n",
    "    #classifier.fit(getattr(transformations, trans)(X_train[:, pruned_indices]), Y_train)\n",
    "    #joblib.dump(classifier, os.path.join(out_dir, 'models', label + '.joblib'))\n",
    "    #classifiers += [(label, pruned_indices, trans)]\n",
    "\n",
    "    #label = 'SVC{}Features'.format(len(features))\n",
    "    #trans = 'flatten'\n",
    "    #classifier = svm.SVC(C=10, gamma='auto', probability=True)\n",
    "    #print(label, classifier.get_params())\n",
    "    #classifier.fit(getattr(transformations, trans)(X_train[:, pruned_indices]), Y_train)\n",
    "    #joblib.dump(classifier, os.path.join(out_dir, 'models', label + '.joblib'))\n",
    "    #classifiers += [(label, pruned_indices, trans)]\n",
    "    \n",
    "    label = 'RFC{}features'.format(len(features))\n",
    "    trans = 'noop'\n",
    "    classifier = ensemble.RandomForestClassifier()\n",
    "    classifier.fit(getattr(transformations, trans)(X_train[:, pruned_indices]), Y_train)\n",
    "    joblib.dump(classifier, os.path.join(out_dir, 'models', label + '.joblib'))\n",
    "    classifiers += [(label, pruned_indices, trans)]\n",
    "    \n",
    "    label = 'GBC{}features'.format(len(features))\n",
    "    trans = 'noop'\n",
    "    classifier = ensemble.GradientBoostingClassifier()\n",
    "    classifier.fit(getattr(transformations, trans)(X_train[:, pruned_indices]), Y_train)\n",
    "    joblib.dump(classifier, os.path.join(out_dir, 'models', label + '.joblib'))\n",
    "    classifiers += [(label, pruned_indices, trans)]\n",
    "    \n",
    "print('fit models in {:.1f}s'.format((time.time() - start)))"
   ]
  },
  {
   "cell_type": "code",
   "execution_count": 14,
   "metadata": {},
   "outputs": [
    {
     "data": {
      "text/plain": [
       "((55437, 5), 30000)"
      ]
     },
     "execution_count": 14,
     "metadata": {},
     "output_type": "execute_result"
    }
   ],
   "source": [
    "X_train.shape, sum(Y_train)"
   ]
  },
  {
   "cell_type": "code",
   "execution_count": 14,
   "metadata": {},
   "outputs": [],
   "source": [
    "#testing_data = [apps.assemble_data(sample, callers, out_dir) for sample in testing_samples]"
   ]
  },
  {
   "cell_type": "code",
   "execution_count": 58,
   "metadata": {},
   "outputs": [
    {
     "name": "stdout",
     "output_type": "stream",
     "text": [
      "assembled testing data in 15.1s\n"
     ]
    }
   ],
   "source": [
    "#start = time.time()\n",
    "#X_test = np.array(sum([data.result()[0] for data in testing_data], []))\n",
    "#Y_test = np.array(sum([data.result()[1] for data in testing_data], []))\n",
    "\n",
    "#print('assembled testing data in {:.1f}s'.format((time.time() - start)))"
   ]
  },
  {
   "cell_type": "code",
   "execution_count": 17,
   "metadata": {},
   "outputs": [
    {
     "name": "stdout",
     "output_type": "stream",
     "text": [
      "assembled predictions in 36.1s\n"
     ]
    }
   ],
   "source": [
    "# TODO make helper function to ensure this file exists\n",
    "start = time.time()\n",
    "futures = []\n",
    "for sample in testing_samples:\n",
    "    for label, feature_indices, transformation in classifiers:\n",
    "        futures += [apps.predict(sample, out_dir, label, feature_indices, transformation, callers)]\n",
    "model_data = pd.concat([f.result() for f in futures])\n",
    "print('assembled predictions in {:.1f}s'.format((time.time() - start)))"
   ]
  },
  {
   "cell_type": "code",
   "execution_count": 18,
   "metadata": {},
   "outputs": [],
   "source": [
    "model_data.to_hdf(os.path.join(out_dir, 'model_data.hdf'), 'data', mode='w')"
   ]
  },
  {
   "cell_type": "code",
   "execution_count": 19,
   "metadata": {},
   "outputs": [
    {
     "data": {
      "text/html": [
       "<div>\n",
       "<style scoped>\n",
       "    .dataframe tbody tr th:only-of-type {\n",
       "        vertical-align: middle;\n",
       "    }\n",
       "\n",
       "    .dataframe tbody tr th {\n",
       "        vertical-align: top;\n",
       "    }\n",
       "\n",
       "    .dataframe thead th {\n",
       "        text-align: right;\n",
       "    }\n",
       "</style>\n",
       "<table border=\"1\" class=\"dataframe\">\n",
       "  <thead>\n",
       "    <tr style=\"text-align: right;\">\n",
       "      <th></th>\n",
       "      <th>sample</th>\n",
       "      <th>caller</th>\n",
       "      <th>fusion</th>\n",
       "      <th>probability</th>\n",
       "      <th>prediction</th>\n",
       "    </tr>\n",
       "  </thead>\n",
       "  <tbody>\n",
       "    <tr>\n",
       "      <th>0</th>\n",
       "      <td>LIB-04625wt</td>\n",
       "      <td>polyfuseRFC4features</td>\n",
       "      <td>STAG2--SNAPC2</td>\n",
       "      <td>0.270000</td>\n",
       "      <td>0</td>\n",
       "    </tr>\n",
       "    <tr>\n",
       "      <th>1</th>\n",
       "      <td>LIB-04625wt</td>\n",
       "      <td>polyfuseRFC4features</td>\n",
       "      <td>SLC2A12--PARP6</td>\n",
       "      <td>0.138333</td>\n",
       "      <td>0</td>\n",
       "    </tr>\n",
       "    <tr>\n",
       "      <th>2</th>\n",
       "      <td>LIB-04625wt</td>\n",
       "      <td>polyfuseRFC4features</td>\n",
       "      <td>ZNF621--TMEM222</td>\n",
       "      <td>1.000000</td>\n",
       "      <td>1</td>\n",
       "    </tr>\n",
       "    <tr>\n",
       "      <th>3</th>\n",
       "      <td>LIB-04625wt</td>\n",
       "      <td>polyfuseRFC4features</td>\n",
       "      <td>TALDO1--EGR1</td>\n",
       "      <td>0.930000</td>\n",
       "      <td>1</td>\n",
       "    </tr>\n",
       "    <tr>\n",
       "      <th>4</th>\n",
       "      <td>LIB-04625wt</td>\n",
       "      <td>polyfuseRFC4features</td>\n",
       "      <td>TMEM115--PNKD</td>\n",
       "      <td>0.970000</td>\n",
       "      <td>1</td>\n",
       "    </tr>\n",
       "    <tr>\n",
       "      <th>...</th>\n",
       "      <td>...</td>\n",
       "      <td>...</td>\n",
       "      <td>...</td>\n",
       "      <td>...</td>\n",
       "      <td>...</td>\n",
       "    </tr>\n",
       "    <tr>\n",
       "      <th>941</th>\n",
       "      <td>LIB-04674wt</td>\n",
       "      <td>polyfuseGBC5features</td>\n",
       "      <td>AC004997.1--KRT33B</td>\n",
       "      <td>0.124775</td>\n",
       "      <td>0</td>\n",
       "    </tr>\n",
       "    <tr>\n",
       "      <th>942</th>\n",
       "      <td>LIB-04674wt</td>\n",
       "      <td>polyfuseGBC5features</td>\n",
       "      <td>PGC--VPS36</td>\n",
       "      <td>0.949512</td>\n",
       "      <td>1</td>\n",
       "    </tr>\n",
       "    <tr>\n",
       "      <th>943</th>\n",
       "      <td>LIB-04674wt</td>\n",
       "      <td>polyfuseGBC5features</td>\n",
       "      <td>NF2--WWTR1</td>\n",
       "      <td>0.942071</td>\n",
       "      <td>1</td>\n",
       "    </tr>\n",
       "    <tr>\n",
       "      <th>944</th>\n",
       "      <td>LIB-04674wt</td>\n",
       "      <td>polyfuseGBC5features</td>\n",
       "      <td>LIPM--AL139011.2</td>\n",
       "      <td>0.129698</td>\n",
       "      <td>0</td>\n",
       "    </tr>\n",
       "    <tr>\n",
       "      <th>945</th>\n",
       "      <td>LIB-04674wt</td>\n",
       "      <td>polyfuseGBC5features</td>\n",
       "      <td>C2orf69--AC011462.1</td>\n",
       "      <td>0.126425</td>\n",
       "      <td>0</td>\n",
       "    </tr>\n",
       "  </tbody>\n",
       "</table>\n",
       "<p>76100 rows × 5 columns</p>\n",
       "</div>"
      ],
      "text/plain": [
       "          sample                caller               fusion  probability  \\\n",
       "0    LIB-04625wt  polyfuseRFC4features  STAG2--SNAPC2        0.270000      \n",
       "1    LIB-04625wt  polyfuseRFC4features  SLC2A12--PARP6       0.138333      \n",
       "2    LIB-04625wt  polyfuseRFC4features  ZNF621--TMEM222      1.000000      \n",
       "3    LIB-04625wt  polyfuseRFC4features  TALDO1--EGR1         0.930000      \n",
       "4    LIB-04625wt  polyfuseRFC4features  TMEM115--PNKD        0.970000      \n",
       "..           ...                   ...            ...             ...      \n",
       "941  LIB-04674wt  polyfuseGBC5features  AC004997.1--KRT33B   0.124775      \n",
       "942  LIB-04674wt  polyfuseGBC5features  PGC--VPS36           0.949512      \n",
       "943  LIB-04674wt  polyfuseGBC5features  NF2--WWTR1           0.942071      \n",
       "944  LIB-04674wt  polyfuseGBC5features  LIPM--AL139011.2     0.129698      \n",
       "945  LIB-04674wt  polyfuseGBC5features  C2orf69--AC011462.1  0.126425      \n",
       "\n",
       "     prediction  \n",
       "0    0           \n",
       "1    0           \n",
       "2    1           \n",
       "3    1           \n",
       "4    1           \n",
       "..  ..           \n",
       "941  0           \n",
       "942  1           \n",
       "943  1           \n",
       "944  0           \n",
       "945  0           \n",
       "\n",
       "[76100 rows x 5 columns]"
      ]
     },
     "execution_count": 19,
     "metadata": {},
     "output_type": "execute_result"
    }
   ],
   "source": [
    "model_data"
   ]
  },
  {
   "cell_type": "code",
   "execution_count": 98,
   "metadata": {},
   "outputs": [],
   "source": [
    "summary = apps.make_summary(out_dir, testing_samples)"
   ]
  },
  {
   "cell_type": "code",
   "execution_count": 99,
   "metadata": {},
   "outputs": [
    {
     "data": {
      "image/png": "[encoded data removed]",
      "text/plain": [
       "<Figure size 432x288 with 1 Axes>"
      ]
     },
     "metadata": {
      "needs_background": "light"
     },
     "output_type": "display_data"
    },
    {
     "data": {
      "image/png": "[encoded data removed]",
      "text/plain": [
       "<Figure size 432x288 with 1 Axes>"
      ]
     },
     "metadata": {
      "needs_background": "light"
     },
     "output_type": "display_data"
    },
    {
     "data": {
      "image/png": "[encoded data removed]",
      "text/plain": [
       "<Figure size 432x288 with 1 Axes>"
      ]
     },
     "metadata": {
      "needs_background": "light"
     },
     "output_type": "display_data"
    },
    {
     "data": {
      "image/png": "[encoded data removed]",
      "text/plain": [
       "<Figure size 432x288 with 1 Axes>"
      ]
     },
     "metadata": {
      "needs_background": "light"
     },
     "output_type": "display_data"
    }
   ],
   "source": [
    "os.makedirs('plots', exist_ok=True)\n",
    "for metric in ['accuracy', 'precision', 'recall', 'f1']:\n",
    "    plt.figure()\n",
    "    ax = sns.boxplot(x=\"caller\", y=metric, data=summary.sort_values(by=metric, ascending=False))\n",
    "    labels = ax.set_xticklabels(ax.get_xticklabels(), rotation=90)\n",
    "    _ = plt.setp(ax.artists, edgecolor = 'k', facecolor='w')\n",
    "    _ = plt.setp(ax.lines, color='k')\n",
    "    plt.savefig('plots/{}.pdf'.format(metric))"
   ]
  },
  {
   "cell_type": "code",
   "execution_count": 100,
   "metadata": {},
   "outputs": [
    {
     "data": {
      "text/html": [
       "<div>\n",
       "<style scoped>\n",
       "    .dataframe tbody tr th:only-of-type {\n",
       "        vertical-align: middle;\n",
       "    }\n",
       "\n",
       "    .dataframe tbody tr th {\n",
       "        vertical-align: top;\n",
       "    }\n",
       "\n",
       "    .dataframe thead th {\n",
       "        text-align: right;\n",
       "    }\n",
       "</style>\n",
       "<table border=\"1\" class=\"dataframe\">\n",
       "  <thead>\n",
       "    <tr style=\"text-align: right;\">\n",
       "      <th></th>\n",
       "      <th>tp</th>\n",
       "      <th>fp</th>\n",
       "      <th>fn</th>\n",
       "      <th>tn</th>\n",
       "      <th>recall</th>\n",
       "      <th>precision</th>\n",
       "      <th>accuracy</th>\n",
       "      <th>f1</th>\n",
       "      <th>mcc</th>\n",
       "    </tr>\n",
       "    <tr>\n",
       "      <th>caller</th>\n",
       "      <th></th>\n",
       "      <th></th>\n",
       "      <th></th>\n",
       "      <th></th>\n",
       "      <th></th>\n",
       "      <th></th>\n",
       "      <th></th>\n",
       "      <th></th>\n",
       "      <th></th>\n",
       "    </tr>\n",
       "  </thead>\n",
       "  <tbody>\n",
       "    <tr>\n",
       "      <th>polyfuseGBC5features</th>\n",
       "      <td>434.25</td>\n",
       "      <td>45.15</td>\n",
       "      <td>65.75</td>\n",
       "      <td>406.10</td>\n",
       "      <td>0.8685</td>\n",
       "      <td>0.905919</td>\n",
       "      <td>0.883239</td>\n",
       "      <td>0.886742</td>\n",
       "      <td>0.765987</td>\n",
       "    </tr>\n",
       "    <tr>\n",
       "      <th>polyfuseRFC5features</th>\n",
       "      <td>439.80</td>\n",
       "      <td>59.30</td>\n",
       "      <td>60.20</td>\n",
       "      <td>391.95</td>\n",
       "      <td>0.8796</td>\n",
       "      <td>0.881474</td>\n",
       "      <td>0.874107</td>\n",
       "      <td>0.880421</td>\n",
       "      <td>0.746226</td>\n",
       "    </tr>\n",
       "    <tr>\n",
       "      <th>polyfuseGBC4features</th>\n",
       "      <td>412.40</td>\n",
       "      <td>45.50</td>\n",
       "      <td>87.60</td>\n",
       "      <td>405.75</td>\n",
       "      <td>0.8248</td>\n",
       "      <td>0.900741</td>\n",
       "      <td>0.859860</td>\n",
       "      <td>0.861043</td>\n",
       "      <td>0.721941</td>\n",
       "    </tr>\n",
       "    <tr>\n",
       "      <th>polyfuseRFC4features</th>\n",
       "      <td>413.40</td>\n",
       "      <td>57.45</td>\n",
       "      <td>86.60</td>\n",
       "      <td>393.80</td>\n",
       "      <td>0.8268</td>\n",
       "      <td>0.878186</td>\n",
       "      <td>0.848345</td>\n",
       "      <td>0.851609</td>\n",
       "      <td>0.696910</td>\n",
       "    </tr>\n",
       "    <tr>\n",
       "      <th>starfusion</th>\n",
       "      <td>401.40</td>\n",
       "      <td>54.45</td>\n",
       "      <td>98.60</td>\n",
       "      <td>396.80</td>\n",
       "      <td>0.8028</td>\n",
       "      <td>0.880617</td>\n",
       "      <td>0.838720</td>\n",
       "      <td>0.839883</td>\n",
       "      <td>0.679671</td>\n",
       "    </tr>\n",
       "    <tr>\n",
       "      <th>fusioncatcher</th>\n",
       "      <td>369.50</td>\n",
       "      <td>69.30</td>\n",
       "      <td>130.50</td>\n",
       "      <td>381.95</td>\n",
       "      <td>0.7390</td>\n",
       "      <td>0.842423</td>\n",
       "      <td>0.789125</td>\n",
       "      <td>0.787186</td>\n",
       "      <td>0.583544</td>\n",
       "    </tr>\n",
       "    <tr>\n",
       "      <th>arriba</th>\n",
       "      <td>416.65</td>\n",
       "      <td>140.50</td>\n",
       "      <td>83.35</td>\n",
       "      <td>310.75</td>\n",
       "      <td>0.8333</td>\n",
       "      <td>0.748774</td>\n",
       "      <td>0.764727</td>\n",
       "      <td>0.788592</td>\n",
       "      <td>0.526544</td>\n",
       "    </tr>\n",
       "    <tr>\n",
       "      <th>starseqr</th>\n",
       "      <td>401.05</td>\n",
       "      <td>130.85</td>\n",
       "      <td>98.95</td>\n",
       "      <td>320.40</td>\n",
       "      <td>0.8021</td>\n",
       "      <td>0.754756</td>\n",
       "      <td>0.758344</td>\n",
       "      <td>0.777520</td>\n",
       "      <td>0.512497</td>\n",
       "    </tr>\n",
       "    <tr>\n",
       "      <th>pizzly</th>\n",
       "      <td>445.65</td>\n",
       "      <td>301.65</td>\n",
       "      <td>54.35</td>\n",
       "      <td>149.60</td>\n",
       "      <td>0.8913</td>\n",
       "      <td>0.600050</td>\n",
       "      <td>0.628169</td>\n",
       "      <td>0.716175</td>\n",
       "      <td>0.274850</td>\n",
       "    </tr>\n",
       "  </tbody>\n",
       "</table>\n",
       "</div>"
      ],
      "text/plain": [
       "                          tp      fp      fn      tn  recall  precision  \\\n",
       "caller                                                                    \n",
       "polyfuseGBC5features  434.25  45.15   65.75   406.10  0.8685  0.905919    \n",
       "polyfuseRFC5features  439.80  59.30   60.20   391.95  0.8796  0.881474    \n",
       "polyfuseGBC4features  412.40  45.50   87.60   405.75  0.8248  0.900741    \n",
       "polyfuseRFC4features  413.40  57.45   86.60   393.80  0.8268  0.878186    \n",
       "starfusion            401.40  54.45   98.60   396.80  0.8028  0.880617    \n",
       "fusioncatcher         369.50  69.30   130.50  381.95  0.7390  0.842423    \n",
       "arriba                416.65  140.50  83.35   310.75  0.8333  0.748774    \n",
       "starseqr              401.05  130.85  98.95   320.40  0.8021  0.754756    \n",
       "pizzly                445.65  301.65  54.35   149.60  0.8913  0.600050    \n",
       "\n",
       "                      accuracy        f1       mcc  \n",
       "caller                                              \n",
       "polyfuseGBC5features  0.883239  0.886742  0.765987  \n",
       "polyfuseRFC5features  0.874107  0.880421  0.746226  \n",
       "polyfuseGBC4features  0.859860  0.861043  0.721941  \n",
       "polyfuseRFC4features  0.848345  0.851609  0.696910  \n",
       "starfusion            0.838720  0.839883  0.679671  \n",
       "fusioncatcher         0.789125  0.787186  0.583544  \n",
       "arriba                0.764727  0.788592  0.526544  \n",
       "starseqr              0.758344  0.777520  0.512497  \n",
       "pizzly                0.628169  0.716175  0.274850  "
      ]
     },
     "execution_count": 100,
     "metadata": {},
     "output_type": "execute_result"
    }
   ],
   "source": [
    "pd.options.display.max_rows = None\n",
    "summary.groupby('caller').mean().sort_values(by='accuracy', ascending=False)"
   ]
  },
  {
   "cell_type": "code",
   "execution_count": 106,
   "metadata": {},
   "outputs": [
    {
     "data": {
      "text/plain": [
       "<matplotlib.legend.Legend at 0x7f2b1ae4c080>"
      ]
     },
     "execution_count": 106,
     "metadata": {},
     "output_type": "execute_result"
    },
    {
     "data": {
      "image/png": "[encoded data removed]",
      "text/plain": [
       "<Figure size 432x288 with 1 Axes>"
      ]
     },
     "metadata": {
      "needs_background": "light"
     },
     "output_type": "display_data"
    }
   ],
   "source": [
    "from sklearn.metrics import roc_auc_score, auc\n",
    "from sklearn.metrics import roc_curve\n",
    "\n",
    "y_true, y_pred, y_prob = apps.score_caller(out_dir, 'LIB-04674wt', 'starfusion').result()\n",
    "\n",
    "#Y_pred = classifier.predict_proba(X_test)[:, 1]\n",
    "auroc = roc_auc_score(y_true, y_pred)\n",
    "fpr, tpr, thresholds = roc_curve(y_true, y_prob)\n",
    "\n",
    "#plt.figure()\n",
    "plt.plot(fpr, tpr, label='GBM Baseline (AUROC = {:0.2f})'.format(auroc))\n",
    "plt.legend()"
   ]
  },
  {
   "cell_type": "code",
   "execution_count": 107,
   "metadata": {},
   "outputs": [],
   "source": [
    "precision, recall, thresholds = precision_recall_curve(y_true, y_prob)\n",
    "auprc = auc(recall, precision)"
   ]
  },
  {
   "cell_type": "code",
   "execution_count": 108,
   "metadata": {},
   "outputs": [
    {
     "data": {
      "text/plain": [
       "<matplotlib.legend.Legend at 0x7f2b189abba8>"
      ]
     },
     "execution_count": 108,
     "metadata": {},
     "output_type": "execute_result"
    },
    {
     "data": {
      "image/png": "[encoded data removed]",
      "text/plain": [
       "<Figure size 432x288 with 1 Axes>"
      ]
     },
     "metadata": {
      "needs_background": "light"
     },
     "output_type": "display_data"
    }
   ],
   "source": [
    "plt.plot(precision, recall, label='GBM Baseline (AUPRC = {:0.2f})'.format(auprc))\n",
    "plt.legend()\n",
    "# looks funky, but see: https://stats.stackexchange.com/questions/183504/are-precision-and-recall-supposed-to-be-monotonic-to-classification-threshold"
   ]
  },
  {
   "cell_type": "code",
   "execution_count": 19,
   "metadata": {},
   "outputs": [],
   "source": [
    "x = np.array([0.59113923])[0]"
   ]
  },
  {
   "cell_type": "code",
   "execution_count": 21,
   "metadata": {},
   "outputs": [
    {
     "data": {
      "text/plain": [
       "0.59113923"
      ]
     },
     "execution_count": 21,
     "metadata": {},
     "output_type": "execute_result"
    }
   ],
   "source": [
    "x"
   ]
  },
  {
   "cell_type": "code",
   "execution_count": 90,
   "metadata": {},
   "outputs": [
    {
     "name": "stdout",
     "output_type": "stream",
     "text": [
      "2\n"
     ]
    }
   ],
   "source": [
    "x = [((1, 2, 3), 4, 5)]\n",
    "for (i, ii, iii), b, c in x:\n",
    "    print(ii)"
   ]
  },
  {
   "cell_type": "code",
   "execution_count": null,
   "metadata": {},
   "outputs": [],
   "source": []
  }
 ],
 "metadata": {
  "kernelspec": {
   "display_name": "Python 3",
   "language": "python",
   "name": "python3"
  },
  "language_info": {
   "codemirror_mode": {
    "name": "ipython",
    "version": 3
   },
   "file_extension": ".py",
   "mimetype": "text/x-python",
   "name": "python",
   "nbconvert_exporter": "python",
   "pygments_lexer": "ipython3",
   "version": "3.7.0"
  }
 },
 "nbformat": 4,
 "nbformat_minor": 2
}
